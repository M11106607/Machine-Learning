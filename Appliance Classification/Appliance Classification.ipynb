{
 "cells": [
  {
   "cell_type": "markdown",
   "metadata": {},
   "source": [
    "\n"
   ]
  },
  {
   "cell_type": "code",
   "execution_count": 1,
   "metadata": {},
   "outputs": [],
   "source": [
    "import pandas as pd\n",
    "import matplotlib.pyplot as plt\n",
    "from matplotlib.pyplot import figure\n",
    "import numpy as np\n",
    "from sklearn.model_selection import train_test_split\n",
    "from xgboost import XGBClassifier\n",
    "from sklearn.metrics import confusion_matrix\n",
    "from sklearn.metrics import f1_score\n",
    "from sklearn.ensemble import RandomForestClassifier\n",
    "from imblearn.over_sampling import SMOTE\n",
    "from sklearn.feature_selection import RFE\n",
    "import seaborn as sns\n",
    "import warnings\n",
    "warnings.filterwarnings('ignore')\n",
    "from sklearn.metrics import plot_confusion_matrix\n",
    "from sklearn.model_selection import cross_val_score\n",
    "from sklearn.model_selection import KFold"
   ]
  },
  {
   "cell_type": "code",
   "execution_count": 2,
   "metadata": {},
   "outputs": [],
   "source": [
    "# Read training file\n",
    "df = pd.read_csv(\"train_data_withlabels.csv\")\n",
    "# Rename first column \n",
    "df.rename(columns={'Unnamed: 0': \"Time\"}, inplace = True)\n",
    "# Encode day of week column from categorical to numeric\n",
    "df['dayofweek'] = df['dayofweek'].replace({'Sun': 0, 'Mon': 1, 'Tue': 2, 'Wed': 3, 'Thu': 4, 'Fri': 5, 'Sat': 6})\n",
    "# Drop Time COlumn\n",
    "df.drop('Time', axis = 1, inplace=True)\n",
    "\n",
    "# Read test data with no lables\n",
    "df_test = pd.read_csv(\"test_data_nolabels.csv\")\n",
    "df_test.rename(columns={'Unnamed: 0': \"Time\"}, inplace = True)\n",
    "# Encode day of week column from categorical to numeric\n",
    "df_test['dayofweek'] = df_test['dayofweek'].replace({'Sun': 0, 'Mon': 1, 'Tue': 2, 'Wed': 3, 'Thu': 4, 'Fri': 5, 'Sat': 6})\n",
    "\n",
    "Id = df_test['Time']\n",
    "df_test.drop('Time', axis=1, inplace = True)"
   ]
  },
  {
   "cell_type": "code",
   "execution_count": 3,
   "metadata": {},
   "outputs": [
    {
     "name": "stdout",
     "output_type": "stream",
     "text": [
      "Label count for AC: \n",
      " 0    316521\n",
      "1    101199\n",
      "Name: ac, dtype: int64\n",
      "\n",
      "Label count for EV: \n",
      " 0    415385\n",
      "1      2335\n",
      "Name: ev, dtype: int64\n",
      "\n",
      "Label count for Oven: \n",
      " 0    411764\n",
      "1      5956\n",
      "Name: oven, dtype: int64\n",
      "\n",
      "Label count for Wash: \n",
      " 0    409767\n",
      "1      7953\n",
      "Name: wash, dtype: int64\n",
      "\n",
      "Label count for Dryer: \n",
      " 0    404144\n",
      "1     13576\n",
      "Name: dryer, dtype: int64\n"
     ]
    }
   ],
   "source": [
    "# Taking count of all the labels\n",
    "print(\"Label count for AC: \\n\", df.ac.value_counts())\n",
    "print(\"\\nLabel count for EV: \\n\", df.ev.value_counts())\n",
    "print(\"\\nLabel count for Oven: \\n\",df.oven.value_counts())\n",
    "print(\"\\nLabel count for Wash: \\n\", df.wash.value_counts())\n",
    "print(\"\\nLabel count for Dryer: \\n\",df.dryer.value_counts())"
   ]
  },
  {
   "cell_type": "code",
   "execution_count": 4,
   "metadata": {},
   "outputs": [
    {
     "data": {
      "image/png": "[encoded data removed]",
      "text/plain": [
       "<Figure size 1152x288 with 5 Axes>"
      ]
     },
     "metadata": {
      "needs_background": "light"
     },
     "output_type": "display_data"
    }
   ],
   "source": [
    "plt.rcParams['figure.figsize'] = [16, 4]\n",
    "\n",
    "# sns.countplot(x=df['ac'])\n",
    "fig, ax =plt.subplots(1,5)\n",
    "sns.countplot(df['ac'], ax=ax[0])\n",
    "sns.countplot(df['ev'], ax=ax[1])\n",
    "sns.countplot(df['oven'], ax=ax[2])\n",
    "sns.countplot(df['wash'], ax=ax[3])\n",
    "sns.countplot(df['dryer'], ax=ax[4])\n",
    "plt.title(\"Label Counts\")\n",
    "fig.show()"
   ]
  },
  {
   "cell_type": "markdown",
   "metadata": {},
   "source": [
    "As we can see above from the count plots that there is big imbalance between target values for all the appliances. **For AC**, the difference is almost 3 times, and **for EV, Oven, Wash, and Dryer** difference is compare to 1 is almost 200, 100, 80, 70 times respectively against target value 0."
   ]
  },
  {
   "cell_type": "code",
   "execution_count": 5,
   "metadata": {},
   "outputs": [
    {
     "data": {
      "text/html": [
       "<style  type=\"text/css\" >\n",
       "#T_9be3ce02_c14b_11eb_b379_04d4c47f111drow0_col0,#T_9be3ce02_c14b_11eb_b379_04d4c47f111drow1_col1,#T_9be3ce02_c14b_11eb_b379_04d4c47f111drow2_col2,#T_9be3ce02_c14b_11eb_b379_04d4c47f111drow3_col3,#T_9be3ce02_c14b_11eb_b379_04d4c47f111drow4_col4,#T_9be3ce02_c14b_11eb_b379_04d4c47f111drow5_col5,#T_9be3ce02_c14b_11eb_b379_04d4c47f111drow6_col6,#T_9be3ce02_c14b_11eb_b379_04d4c47f111drow7_col7,#T_9be3ce02_c14b_11eb_b379_04d4c47f111drow8_col8,#T_9be3ce02_c14b_11eb_b379_04d4c47f111drow9_col9,#T_9be3ce02_c14b_11eb_b379_04d4c47f111drow10_col10,#T_9be3ce02_c14b_11eb_b379_04d4c47f111drow11_col11,#T_9be3ce02_c14b_11eb_b379_04d4c47f111drow12_col12,#T_9be3ce02_c14b_11eb_b379_04d4c47f111drow13_col13,#T_9be3ce02_c14b_11eb_b379_04d4c47f111drow14_col14{\n",
       "            background-color:  #b40426;\n",
       "            color:  #f1f1f1;\n",
       "        }#T_9be3ce02_c14b_11eb_b379_04d4c47f111drow0_col1{\n",
       "            background-color:  #d0473d;\n",
       "            color:  #f1f1f1;\n",
       "        }#T_9be3ce02_c14b_11eb_b379_04d4c47f111drow0_col2,#T_9be3ce02_c14b_11eb_b379_04d4c47f111drow5_col1,#T_9be3ce02_c14b_11eb_b379_04d4c47f111drow5_col6{\n",
       "            background-color:  #688aef;\n",
       "            color:  #000000;\n",
       "        }#T_9be3ce02_c14b_11eb_b379_04d4c47f111drow0_col3{\n",
       "            background-color:  #89acfd;\n",
       "            color:  #000000;\n",
       "        }#T_9be3ce02_c14b_11eb_b379_04d4c47f111drow0_col4,#T_9be3ce02_c14b_11eb_b379_04d4c47f111drow1_col3,#T_9be3ce02_c14b_11eb_b379_04d4c47f111drow14_col13{\n",
       "            background-color:  #5572df;\n",
       "            color:  #000000;\n",
       "        }#T_9be3ce02_c14b_11eb_b379_04d4c47f111drow0_col5{\n",
       "            background-color:  #5673e0;\n",
       "            color:  #000000;\n",
       "        }#T_9be3ce02_c14b_11eb_b379_04d4c47f111drow0_col6{\n",
       "            background-color:  #a7c5fe;\n",
       "            color:  #000000;\n",
       "        }#T_9be3ce02_c14b_11eb_b379_04d4c47f111drow0_col7,#T_9be3ce02_c14b_11eb_b379_04d4c47f111drow1_col4,#T_9be3ce02_c14b_11eb_b379_04d4c47f111drow2_col7,#T_9be3ce02_c14b_11eb_b379_04d4c47f111drow3_col5,#T_9be3ce02_c14b_11eb_b379_04d4c47f111drow3_col7,#T_9be3ce02_c14b_11eb_b379_04d4c47f111drow7_col3,#T_9be3ce02_c14b_11eb_b379_04d4c47f111drow8_col7,#T_9be3ce02_c14b_11eb_b379_04d4c47f111drow9_col7{\n",
       "            background-color:  #4a63d3;\n",
       "            color:  #f1f1f1;\n",
       "        }#T_9be3ce02_c14b_11eb_b379_04d4c47f111drow0_col8,#T_9be3ce02_c14b_11eb_b379_04d4c47f111drow4_col1,#T_9be3ce02_c14b_11eb_b379_04d4c47f111drow4_col13,#T_9be3ce02_c14b_11eb_b379_04d4c47f111drow8_col10,#T_9be3ce02_c14b_11eb_b379_04d4c47f111drow11_col3{\n",
       "            background-color:  #6788ee;\n",
       "            color:  #000000;\n",
       "        }#T_9be3ce02_c14b_11eb_b379_04d4c47f111drow0_col9,#T_9be3ce02_c14b_11eb_b379_04d4c47f111drow1_col9,#T_9be3ce02_c14b_11eb_b379_04d4c47f111drow3_col9{\n",
       "            background-color:  #88abfd;\n",
       "            color:  #000000;\n",
       "        }#T_9be3ce02_c14b_11eb_b379_04d4c47f111drow0_col10{\n",
       "            background-color:  #f6bea4;\n",
       "            color:  #000000;\n",
       "        }#T_9be3ce02_c14b_11eb_b379_04d4c47f111drow0_col11{\n",
       "            background-color:  #f3c8b2;\n",
       "            color:  #000000;\n",
       "        }#T_9be3ce02_c14b_11eb_b379_04d4c47f111drow0_col12{\n",
       "            background-color:  #b9d0f9;\n",
       "            color:  #000000;\n",
       "        }#T_9be3ce02_c14b_11eb_b379_04d4c47f111drow0_col13,#T_9be3ce02_c14b_11eb_b379_04d4c47f111drow9_col4,#T_9be3ce02_c14b_11eb_b379_04d4c47f111drow11_col7,#T_9be3ce02_c14b_11eb_b379_04d4c47f111drow12_col5,#T_9be3ce02_c14b_11eb_b379_04d4c47f111drow14_col7{\n",
       "            background-color:  #4e68d8;\n",
       "            color:  #000000;\n",
       "        }#T_9be3ce02_c14b_11eb_b379_04d4c47f111drow0_col14{\n",
       "            background-color:  #c5d6f2;\n",
       "            color:  #000000;\n",
       "        }#T_9be3ce02_c14b_11eb_b379_04d4c47f111drow1_col0{\n",
       "            background-color:  #d1493f;\n",
       "            color:  #f1f1f1;\n",
       "        }#T_9be3ce02_c14b_11eb_b379_04d4c47f111drow1_col2,#T_9be3ce02_c14b_11eb_b379_04d4c47f111drow5_col2,#T_9be3ce02_c14b_11eb_b379_04d4c47f111drow5_col7,#T_9be3ce02_c14b_11eb_b379_04d4c47f111drow14_col5{\n",
       "            background-color:  #3e51c5;\n",
       "            color:  #f1f1f1;\n",
       "        }#T_9be3ce02_c14b_11eb_b379_04d4c47f111drow1_col5,#T_9be3ce02_c14b_11eb_b379_04d4c47f111drow2_col3,#T_9be3ce02_c14b_11eb_b379_04d4c47f111drow10_col7,#T_9be3ce02_c14b_11eb_b379_04d4c47f111drow11_col4{\n",
       "            background-color:  #485fd1;\n",
       "            color:  #f1f1f1;\n",
       "        }#T_9be3ce02_c14b_11eb_b379_04d4c47f111drow1_col6,#T_9be3ce02_c14b_11eb_b379_04d4c47f111drow2_col0{\n",
       "            background-color:  #82a6fb;\n",
       "            color:  #000000;\n",
       "        }#T_9be3ce02_c14b_11eb_b379_04d4c47f111drow1_col7,#T_9be3ce02_c14b_11eb_b379_04d4c47f111drow2_col9,#T_9be3ce02_c14b_11eb_b379_04d4c47f111drow3_col4,#T_9be3ce02_c14b_11eb_b379_04d4c47f111drow4_col3,#T_9be3ce02_c14b_11eb_b379_04d4c47f111drow12_col0{\n",
       "            background-color:  #4c66d6;\n",
       "            color:  #000000;\n",
       "        }#T_9be3ce02_c14b_11eb_b379_04d4c47f111drow1_col8,#T_9be3ce02_c14b_11eb_b379_04d4c47f111drow3_col13,#T_9be3ce02_c14b_11eb_b379_04d4c47f111drow4_col0,#T_9be3ce02_c14b_11eb_b379_04d4c47f111drow6_col3,#T_9be3ce02_c14b_11eb_b379_04d4c47f111drow13_col11{\n",
       "            background-color:  #6485ec;\n",
       "            color:  #000000;\n",
       "        }#T_9be3ce02_c14b_11eb_b379_04d4c47f111drow1_col10,#T_9be3ce02_c14b_11eb_b379_04d4c47f111drow10_col1{\n",
       "            background-color:  #f0cdbb;\n",
       "            color:  #000000;\n",
       "        }#T_9be3ce02_c14b_11eb_b379_04d4c47f111drow1_col11{\n",
       "            background-color:  #f5c1a9;\n",
       "            color:  #000000;\n",
       "        }#T_9be3ce02_c14b_11eb_b379_04d4c47f111drow1_col12,#T_9be3ce02_c14b_11eb_b379_04d4c47f111drow9_col1,#T_9be3ce02_c14b_11eb_b379_04d4c47f111drow10_col6{\n",
       "            background-color:  #a1c0ff;\n",
       "            color:  #000000;\n",
       "        }#T_9be3ce02_c14b_11eb_b379_04d4c47f111drow1_col13,#T_9be3ce02_c14b_11eb_b379_04d4c47f111drow10_col4{\n",
       "            background-color:  #516ddb;\n",
       "            color:  #000000;\n",
       "        }#T_9be3ce02_c14b_11eb_b379_04d4c47f111drow1_col14,#T_9be3ce02_c14b_11eb_b379_04d4c47f111drow13_col12,#T_9be3ce02_c14b_11eb_b379_04d4c47f111drow14_col11{\n",
       "            background-color:  #d6dce4;\n",
       "            color:  #000000;\n",
       "        }#T_9be3ce02_c14b_11eb_b379_04d4c47f111drow2_col1,#T_9be3ce02_c14b_11eb_b379_04d4c47f111drow5_col13,#T_9be3ce02_c14b_11eb_b379_04d4c47f111drow7_col10,#T_9be3ce02_c14b_11eb_b379_04d4c47f111drow9_col6{\n",
       "            background-color:  #6687ed;\n",
       "            color:  #000000;\n",
       "        }#T_9be3ce02_c14b_11eb_b379_04d4c47f111drow2_col4{\n",
       "            background-color:  #465ecf;\n",
       "            color:  #f1f1f1;\n",
       "        }#T_9be3ce02_c14b_11eb_b379_04d4c47f111drow2_col5,#T_9be3ce02_c14b_11eb_b379_04d4c47f111drow8_col5,#T_9be3ce02_c14b_11eb_b379_04d4c47f111drow10_col13,#T_9be3ce02_c14b_11eb_b379_04d4c47f111drow12_col7{\n",
       "            background-color:  #455cce;\n",
       "            color:  #f1f1f1;\n",
       "        }#T_9be3ce02_c14b_11eb_b379_04d4c47f111drow2_col6{\n",
       "            background-color:  #6384eb;\n",
       "            color:  #000000;\n",
       "        }#T_9be3ce02_c14b_11eb_b379_04d4c47f111drow2_col8,#T_9be3ce02_c14b_11eb_b379_04d4c47f111drow4_col7,#T_9be3ce02_c14b_11eb_b379_04d4c47f111drow5_col8,#T_9be3ce02_c14b_11eb_b379_04d4c47f111drow6_col8,#T_9be3ce02_c14b_11eb_b379_04d4c47f111drow7_col4,#T_9be3ce02_c14b_11eb_b379_04d4c47f111drow7_col5,#T_9be3ce02_c14b_11eb_b379_04d4c47f111drow7_col8,#T_9be3ce02_c14b_11eb_b379_04d4c47f111drow10_col8,#T_9be3ce02_c14b_11eb_b379_04d4c47f111drow11_col8,#T_9be3ce02_c14b_11eb_b379_04d4c47f111drow11_col13,#T_9be3ce02_c14b_11eb_b379_04d4c47f111drow12_col1,#T_9be3ce02_c14b_11eb_b379_04d4c47f111drow12_col8,#T_9be3ce02_c14b_11eb_b379_04d4c47f111drow12_col10,#T_9be3ce02_c14b_11eb_b379_04d4c47f111drow12_col11,#T_9be3ce02_c14b_11eb_b379_04d4c47f111drow12_col14,#T_9be3ce02_c14b_11eb_b379_04d4c47f111drow13_col0,#T_9be3ce02_c14b_11eb_b379_04d4c47f111drow13_col6,#T_9be3ce02_c14b_11eb_b379_04d4c47f111drow13_col8,#T_9be3ce02_c14b_11eb_b379_04d4c47f111drow13_col9,#T_9be3ce02_c14b_11eb_b379_04d4c47f111drow14_col2,#T_9be3ce02_c14b_11eb_b379_04d4c47f111drow14_col3,#T_9be3ce02_c14b_11eb_b379_04d4c47f111drow14_col6,#T_9be3ce02_c14b_11eb_b379_04d4c47f111drow14_col8,#T_9be3ce02_c14b_11eb_b379_04d4c47f111drow14_col12{\n",
       "            background-color:  #3b4cc0;\n",
       "            color:  #f1f1f1;\n",
       "        }#T_9be3ce02_c14b_11eb_b379_04d4c47f111drow2_col10,#T_9be3ce02_c14b_11eb_b379_04d4c47f111drow8_col0,#T_9be3ce02_c14b_11eb_b379_04d4c47f111drow10_col3{\n",
       "            background-color:  #85a8fc;\n",
       "            color:  #000000;\n",
       "        }#T_9be3ce02_c14b_11eb_b379_04d4c47f111drow2_col11,#T_9be3ce02_c14b_11eb_b379_04d4c47f111drow7_col11{\n",
       "            background-color:  #98b9ff;\n",
       "            color:  #000000;\n",
       "        }#T_9be3ce02_c14b_11eb_b379_04d4c47f111drow2_col12,#T_9be3ce02_c14b_11eb_b379_04d4c47f111drow4_col14,#T_9be3ce02_c14b_11eb_b379_04d4c47f111drow8_col12,#T_9be3ce02_c14b_11eb_b379_04d4c47f111drow8_col14,#T_9be3ce02_c14b_11eb_b379_04d4c47f111drow9_col14{\n",
       "            background-color:  #c1d4f4;\n",
       "            color:  #000000;\n",
       "        }#T_9be3ce02_c14b_11eb_b379_04d4c47f111drow2_col13,#T_9be3ce02_c14b_11eb_b379_04d4c47f111drow3_col1{\n",
       "            background-color:  #7295f4;\n",
       "            color:  #000000;\n",
       "        }#T_9be3ce02_c14b_11eb_b379_04d4c47f111drow2_col14,#T_9be3ce02_c14b_11eb_b379_04d4c47f111drow7_col12{\n",
       "            background-color:  #bed2f6;\n",
       "            color:  #000000;\n",
       "        }#T_9be3ce02_c14b_11eb_b379_04d4c47f111drow3_col0{\n",
       "            background-color:  #97b8ff;\n",
       "            color:  #000000;\n",
       "        }#T_9be3ce02_c14b_11eb_b379_04d4c47f111drow3_col2,#T_9be3ce02_c14b_11eb_b379_04d4c47f111drow13_col5{\n",
       "            background-color:  #3d50c3;\n",
       "            color:  #f1f1f1;\n",
       "        }#T_9be3ce02_c14b_11eb_b379_04d4c47f111drow3_col6,#T_9be3ce02_c14b_11eb_b379_04d4c47f111drow8_col13{\n",
       "            background-color:  #6e90f2;\n",
       "            color:  #000000;\n",
       "        }#T_9be3ce02_c14b_11eb_b379_04d4c47f111drow3_col8,#T_9be3ce02_c14b_11eb_b379_04d4c47f111drow4_col9,#T_9be3ce02_c14b_11eb_b379_04d4c47f111drow5_col3,#T_9be3ce02_c14b_11eb_b379_04d4c47f111drow5_col9,#T_9be3ce02_c14b_11eb_b379_04d4c47f111drow6_col2{\n",
       "            background-color:  #4f69d9;\n",
       "            color:  #000000;\n",
       "        }#T_9be3ce02_c14b_11eb_b379_04d4c47f111drow3_col10,#T_9be3ce02_c14b_11eb_b379_04d4c47f111drow10_col12{\n",
       "            background-color:  #9fbfff;\n",
       "            color:  #000000;\n",
       "        }#T_9be3ce02_c14b_11eb_b379_04d4c47f111drow3_col11{\n",
       "            background-color:  #aec9fc;\n",
       "            color:  #000000;\n",
       "        }#T_9be3ce02_c14b_11eb_b379_04d4c47f111drow3_col12{\n",
       "            background-color:  #d5dbe5;\n",
       "            color:  #000000;\n",
       "        }#T_9be3ce02_c14b_11eb_b379_04d4c47f111drow3_col14{\n",
       "            background-color:  #b6cefa;\n",
       "            color:  #000000;\n",
       "        }#T_9be3ce02_c14b_11eb_b379_04d4c47f111drow4_col2,#T_9be3ce02_c14b_11eb_b379_04d4c47f111drow4_col8{\n",
       "            background-color:  #3c4ec2;\n",
       "            color:  #f1f1f1;\n",
       "        }#T_9be3ce02_c14b_11eb_b379_04d4c47f111drow4_col5{\n",
       "            background-color:  #5977e3;\n",
       "            color:  #000000;\n",
       "        }#T_9be3ce02_c14b_11eb_b379_04d4c47f111drow4_col6,#T_9be3ce02_c14b_11eb_b379_04d4c47f111drow14_col0{\n",
       "            background-color:  #6180e9;\n",
       "            color:  #000000;\n",
       "        }#T_9be3ce02_c14b_11eb_b379_04d4c47f111drow4_col10{\n",
       "            background-color:  #6f92f3;\n",
       "            color:  #000000;\n",
       "        }#T_9be3ce02_c14b_11eb_b379_04d4c47f111drow4_col11,#T_9be3ce02_c14b_11eb_b379_04d4c47f111drow5_col11,#T_9be3ce02_c14b_11eb_b379_04d4c47f111drow6_col1{\n",
       "            background-color:  #94b6ff;\n",
       "            color:  #000000;\n",
       "        }#T_9be3ce02_c14b_11eb_b379_04d4c47f111drow4_col12,#T_9be3ce02_c14b_11eb_b379_04d4c47f111drow5_col12{\n",
       "            background-color:  #c6d6f1;\n",
       "            color:  #000000;\n",
       "        }#T_9be3ce02_c14b_11eb_b379_04d4c47f111drow5_col0,#T_9be3ce02_c14b_11eb_b379_04d4c47f111drow7_col1{\n",
       "            background-color:  #6a8bef;\n",
       "            color:  #000000;\n",
       "        }#T_9be3ce02_c14b_11eb_b379_04d4c47f111drow5_col4,#T_9be3ce02_c14b_11eb_b379_04d4c47f111drow9_col13{\n",
       "            background-color:  #5d7ce6;\n",
       "            color:  #000000;\n",
       "        }#T_9be3ce02_c14b_11eb_b379_04d4c47f111drow5_col10,#T_9be3ce02_c14b_11eb_b379_04d4c47f111drow11_col12{\n",
       "            background-color:  #7396f5;\n",
       "            color:  #000000;\n",
       "        }#T_9be3ce02_c14b_11eb_b379_04d4c47f111drow5_col14{\n",
       "            background-color:  #bcd2f7;\n",
       "            color:  #000000;\n",
       "        }#T_9be3ce02_c14b_11eb_b379_04d4c47f111drow6_col0{\n",
       "            background-color:  #adc9fd;\n",
       "            color:  #000000;\n",
       "        }#T_9be3ce02_c14b_11eb_b379_04d4c47f111drow6_col4,#T_9be3ce02_c14b_11eb_b379_04d4c47f111drow12_col9{\n",
       "            background-color:  #5875e1;\n",
       "            color:  #000000;\n",
       "        }#T_9be3ce02_c14b_11eb_b379_04d4c47f111drow6_col5{\n",
       "            background-color:  #5b7ae5;\n",
       "            color:  #000000;\n",
       "        }#T_9be3ce02_c14b_11eb_b379_04d4c47f111drow6_col7,#T_9be3ce02_c14b_11eb_b379_04d4c47f111drow9_col5,#T_9be3ce02_c14b_11eb_b379_04d4c47f111drow13_col7,#T_9be3ce02_c14b_11eb_b379_04d4c47f111drow14_col4{\n",
       "            background-color:  #4961d2;\n",
       "            color:  #f1f1f1;\n",
       "        }#T_9be3ce02_c14b_11eb_b379_04d4c47f111drow6_col9,#T_9be3ce02_c14b_11eb_b379_04d4c47f111drow8_col3,#T_9be3ce02_c14b_11eb_b379_04d4c47f111drow10_col2{\n",
       "            background-color:  #5e7de7;\n",
       "            color:  #000000;\n",
       "        }#T_9be3ce02_c14b_11eb_b379_04d4c47f111drow6_col10{\n",
       "            background-color:  #b1cbfc;\n",
       "            color:  #000000;\n",
       "        }#T_9be3ce02_c14b_11eb_b379_04d4c47f111drow6_col11{\n",
       "            background-color:  #b5cdfa;\n",
       "            color:  #000000;\n",
       "        }#T_9be3ce02_c14b_11eb_b379_04d4c47f111drow6_col12{\n",
       "            background-color:  #d4dbe6;\n",
       "            color:  #000000;\n",
       "        }#T_9be3ce02_c14b_11eb_b379_04d4c47f111drow6_col13,#T_9be3ce02_c14b_11eb_b379_04d4c47f111drow8_col6{\n",
       "            background-color:  #5470de;\n",
       "            color:  #000000;\n",
       "        }#T_9be3ce02_c14b_11eb_b379_04d4c47f111drow6_col14,#T_9be3ce02_c14b_11eb_b379_04d4c47f111drow13_col14{\n",
       "            background-color:  #afcafc;\n",
       "            color:  #000000;\n",
       "        }#T_9be3ce02_c14b_11eb_b379_04d4c47f111drow7_col0{\n",
       "            background-color:  #5a78e4;\n",
       "            color:  #000000;\n",
       "        }#T_9be3ce02_c14b_11eb_b379_04d4c47f111drow7_col2,#T_9be3ce02_c14b_11eb_b379_04d4c47f111drow8_col2,#T_9be3ce02_c14b_11eb_b379_04d4c47f111drow9_col2,#T_9be3ce02_c14b_11eb_b379_04d4c47f111drow12_col2,#T_9be3ce02_c14b_11eb_b379_04d4c47f111drow13_col10{\n",
       "            background-color:  #3f53c6;\n",
       "            color:  #f1f1f1;\n",
       "        }#T_9be3ce02_c14b_11eb_b379_04d4c47f111drow7_col6,#T_9be3ce02_c14b_11eb_b379_04d4c47f111drow10_col5,#T_9be3ce02_c14b_11eb_b379_04d4c47f111drow12_col4{\n",
       "            background-color:  #536edd;\n",
       "            color:  #000000;\n",
       "        }#T_9be3ce02_c14b_11eb_b379_04d4c47f111drow7_col9,#T_9be3ce02_c14b_11eb_b379_04d4c47f111drow8_col4,#T_9be3ce02_c14b_11eb_b379_04d4c47f111drow13_col1,#T_9be3ce02_c14b_11eb_b379_04d4c47f111drow14_col9{\n",
       "            background-color:  #4b64d5;\n",
       "            color:  #f1f1f1;\n",
       "        }#T_9be3ce02_c14b_11eb_b379_04d4c47f111drow7_col13,#T_9be3ce02_c14b_11eb_b379_04d4c47f111drow9_col8,#T_9be3ce02_c14b_11eb_b379_04d4c47f111drow12_col3{\n",
       "            background-color:  #6c8ff1;\n",
       "            color:  #000000;\n",
       "        }#T_9be3ce02_c14b_11eb_b379_04d4c47f111drow7_col14,#T_9be3ce02_c14b_11eb_b379_04d4c47f111drow9_col11{\n",
       "            background-color:  #c4d5f3;\n",
       "            color:  #000000;\n",
       "        }#T_9be3ce02_c14b_11eb_b379_04d4c47f111drow8_col1,#T_9be3ce02_c14b_11eb_b379_04d4c47f111drow12_col13{\n",
       "            background-color:  #90b2fe;\n",
       "            color:  #000000;\n",
       "        }#T_9be3ce02_c14b_11eb_b379_04d4c47f111drow8_col9{\n",
       "            background-color:  #7ea1fa;\n",
       "            color:  #000000;\n",
       "        }#T_9be3ce02_c14b_11eb_b379_04d4c47f111drow8_col11,#T_9be3ce02_c14b_11eb_b379_04d4c47f111drow9_col0{\n",
       "            background-color:  #96b7ff;\n",
       "            color:  #000000;\n",
       "        }#T_9be3ce02_c14b_11eb_b379_04d4c47f111drow9_col3,#T_9be3ce02_c14b_11eb_b379_04d4c47f111drow11_col9{\n",
       "            background-color:  #86a9fc;\n",
       "            color:  #000000;\n",
       "        }#T_9be3ce02_c14b_11eb_b379_04d4c47f111drow9_col10{\n",
       "            background-color:  #a9c6fd;\n",
       "            color:  #000000;\n",
       "        }#T_9be3ce02_c14b_11eb_b379_04d4c47f111drow9_col12{\n",
       "            background-color:  #c9d7f0;\n",
       "            color:  #000000;\n",
       "        }#T_9be3ce02_c14b_11eb_b379_04d4c47f111drow10_col0{\n",
       "            background-color:  #f5c2aa;\n",
       "            color:  #000000;\n",
       "        }#T_9be3ce02_c14b_11eb_b379_04d4c47f111drow10_col9{\n",
       "            background-color:  #92b4fe;\n",
       "            color:  #000000;\n",
       "        }#T_9be3ce02_c14b_11eb_b379_04d4c47f111drow10_col11{\n",
       "            background-color:  #d85646;\n",
       "            color:  #000000;\n",
       "        }#T_9be3ce02_c14b_11eb_b379_04d4c47f111drow10_col14{\n",
       "            background-color:  #d7dce3;\n",
       "            color:  #000000;\n",
       "        }#T_9be3ce02_c14b_11eb_b379_04d4c47f111drow11_col0{\n",
       "            background-color:  #e1dad6;\n",
       "            color:  #000000;\n",
       "        }#T_9be3ce02_c14b_11eb_b379_04d4c47f111drow11_col1{\n",
       "            background-color:  #ecd3c5;\n",
       "            color:  #000000;\n",
       "        }#T_9be3ce02_c14b_11eb_b379_04d4c47f111drow11_col2,#T_9be3ce02_c14b_11eb_b379_04d4c47f111drow13_col2,#T_9be3ce02_c14b_11eb_b379_04d4c47f111drow13_col4{\n",
       "            background-color:  #4358cb;\n",
       "            color:  #f1f1f1;\n",
       "        }#T_9be3ce02_c14b_11eb_b379_04d4c47f111drow11_col5{\n",
       "            background-color:  #445acc;\n",
       "            color:  #f1f1f1;\n",
       "        }#T_9be3ce02_c14b_11eb_b379_04d4c47f111drow11_col6{\n",
       "            background-color:  #7a9df8;\n",
       "            color:  #000000;\n",
       "        }#T_9be3ce02_c14b_11eb_b379_04d4c47f111drow11_col10{\n",
       "            background-color:  #df634e;\n",
       "            color:  #000000;\n",
       "        }#T_9be3ce02_c14b_11eb_b379_04d4c47f111drow11_col14{\n",
       "            background-color:  #edd2c3;\n",
       "            color:  #000000;\n",
       "        }#T_9be3ce02_c14b_11eb_b379_04d4c47f111drow12_col6{\n",
       "            background-color:  #7597f6;\n",
       "            color:  #000000;\n",
       "        }#T_9be3ce02_c14b_11eb_b379_04d4c47f111drow13_col3{\n",
       "            background-color:  #4055c8;\n",
       "            color:  #f1f1f1;\n",
       "        }#T_9be3ce02_c14b_11eb_b379_04d4c47f111drow14_col1{\n",
       "            background-color:  #8badfd;\n",
       "            color:  #000000;\n",
       "        }#T_9be3ce02_c14b_11eb_b379_04d4c47f111drow14_col10{\n",
       "            background-color:  #8db0fe;\n",
       "            color:  #000000;\n",
       "        }</style><table id=\"T_9be3ce02_c14b_11eb_b379_04d4c47f111d\" ><thead>    <tr>        <th class=\"blank level0\" ></th>        <th class=\"col_heading level0 col0\" >load</th>        <th class=\"col_heading level0 col1\" >ac</th>        <th class=\"col_heading level0 col2\" >ev</th>        <th class=\"col_heading level0 col3\" >oven</th>        <th class=\"col_heading level0 col4\" >wash</th>        <th class=\"col_heading level0 col5\" >dryer</th>        <th class=\"col_heading level0 col6\" >hourofday</th>        <th class=\"col_heading level0 col7\" >dayofweek</th>        <th class=\"col_heading level0 col8\" >dif</th>        <th class=\"col_heading level0 col9\" >absdif</th>        <th class=\"col_heading level0 col10\" >max</th>        <th class=\"col_heading level0 col11\" >var</th>        <th class=\"col_heading level0 col12\" >entropy</th>        <th class=\"col_heading level0 col13\" >nonlinear</th>        <th class=\"col_heading level0 col14\" >hurst</th>    </tr></thead><tbody>\n",
       "                <tr>\n",
       "                        <th id=\"T_9be3ce02_c14b_11eb_b379_04d4c47f111dlevel0_row0\" class=\"row_heading level0 row0\" >load</th>\n",
       "                        <td id=\"T_9be3ce02_c14b_11eb_b379_04d4c47f111drow0_col0\" class=\"data row0 col0\" >1.000000</td>\n",
       "                        <td id=\"T_9be3ce02_c14b_11eb_b379_04d4c47f111drow0_col1\" class=\"data row0 col1\" >0.908138</td>\n",
       "                        <td id=\"T_9be3ce02_c14b_11eb_b379_04d4c47f111drow0_col2\" class=\"data row0 col2\" >0.132611</td>\n",
       "                        <td id=\"T_9be3ce02_c14b_11eb_b379_04d4c47f111drow0_col3\" class=\"data row0 col3\" >0.198626</td>\n",
       "                        <td id=\"T_9be3ce02_c14b_11eb_b379_04d4c47f111drow0_col4\" class=\"data row0 col4\" >0.038060</td>\n",
       "                        <td id=\"T_9be3ce02_c14b_11eb_b379_04d4c47f111drow0_col5\" class=\"data row0 col5\" >0.055399</td>\n",
       "                        <td id=\"T_9be3ce02_c14b_11eb_b379_04d4c47f111drow0_col6\" class=\"data row0 col6\" >0.266770</td>\n",
       "                        <td id=\"T_9be3ce02_c14b_11eb_b379_04d4c47f111drow0_col7\" class=\"data row0 col7\" >0.002128</td>\n",
       "                        <td id=\"T_9be3ce02_c14b_11eb_b379_04d4c47f111drow0_col8\" class=\"data row0 col8\" >0.140416</td>\n",
       "                        <td id=\"T_9be3ce02_c14b_11eb_b379_04d4c47f111drow0_col9\" class=\"data row0 col9\" >0.191160</td>\n",
       "                        <td id=\"T_9be3ce02_c14b_11eb_b379_04d4c47f111drow0_col10\" class=\"data row0 col10\" >0.589362</td>\n",
       "                        <td id=\"T_9be3ce02_c14b_11eb_b379_04d4c47f111drow0_col11\" class=\"data row0 col11\" >0.462183</td>\n",
       "                        <td id=\"T_9be3ce02_c14b_11eb_b379_04d4c47f111drow0_col12\" class=\"data row0 col12\" >-0.045828</td>\n",
       "                        <td id=\"T_9be3ce02_c14b_11eb_b379_04d4c47f111drow0_col13\" class=\"data row0 col13\" >-0.113488</td>\n",
       "                        <td id=\"T_9be3ce02_c14b_11eb_b379_04d4c47f111drow0_col14\" class=\"data row0 col14\" >0.024420</td>\n",
       "            </tr>\n",
       "            <tr>\n",
       "                        <th id=\"T_9be3ce02_c14b_11eb_b379_04d4c47f111dlevel0_row1\" class=\"row_heading level0 row1\" >ac</th>\n",
       "                        <td id=\"T_9be3ce02_c14b_11eb_b379_04d4c47f111drow1_col0\" class=\"data row1 col0\" >0.908138</td>\n",
       "                        <td id=\"T_9be3ce02_c14b_11eb_b379_04d4c47f111drow1_col1\" class=\"data row1 col1\" >1.000000</td>\n",
       "                        <td id=\"T_9be3ce02_c14b_11eb_b379_04d4c47f111drow1_col2\" class=\"data row1 col2\" >-0.002375</td>\n",
       "                        <td id=\"T_9be3ce02_c14b_11eb_b379_04d4c47f111drow1_col3\" class=\"data row1 col3\" >0.036529</td>\n",
       "                        <td id=\"T_9be3ce02_c14b_11eb_b379_04d4c47f111drow1_col4\" class=\"data row1 col4\" >0.001360</td>\n",
       "                        <td id=\"T_9be3ce02_c14b_11eb_b379_04d4c47f111drow1_col5\" class=\"data row1 col5\" >0.005924</td>\n",
       "                        <td id=\"T_9be3ce02_c14b_11eb_b379_04d4c47f111drow1_col6\" class=\"data row1 col6\" >0.151364</td>\n",
       "                        <td id=\"T_9be3ce02_c14b_11eb_b379_04d4c47f111drow1_col7\" class=\"data row1 col7\" >0.008396</td>\n",
       "                        <td id=\"T_9be3ce02_c14b_11eb_b379_04d4c47f111drow1_col8\" class=\"data row1 col8\" >0.135890</td>\n",
       "                        <td id=\"T_9be3ce02_c14b_11eb_b379_04d4c47f111drow1_col9\" class=\"data row1 col9\" >0.191702</td>\n",
       "                        <td id=\"T_9be3ce02_c14b_11eb_b379_04d4c47f111drow1_col10\" class=\"data row1 col10\" >0.518319</td>\n",
       "                        <td id=\"T_9be3ce02_c14b_11eb_b379_04d4c47f111drow1_col11\" class=\"data row1 col11\" >0.493826</td>\n",
       "                        <td id=\"T_9be3ce02_c14b_11eb_b379_04d4c47f111drow1_col12\" class=\"data row1 col12\" >-0.164815</td>\n",
       "                        <td id=\"T_9be3ce02_c14b_11eb_b379_04d4c47f111drow1_col13\" class=\"data row1 col13\" >-0.100162</td>\n",
       "                        <td id=\"T_9be3ce02_c14b_11eb_b379_04d4c47f111drow1_col14\" class=\"data row1 col14\" >0.117848</td>\n",
       "            </tr>\n",
       "            <tr>\n",
       "                        <th id=\"T_9be3ce02_c14b_11eb_b379_04d4c47f111dlevel0_row2\" class=\"row_heading level0 row2\" >ev</th>\n",
       "                        <td id=\"T_9be3ce02_c14b_11eb_b379_04d4c47f111drow2_col0\" class=\"data row2 col0\" >0.132611</td>\n",
       "                        <td id=\"T_9be3ce02_c14b_11eb_b379_04d4c47f111drow2_col1\" class=\"data row2 col1\" >-0.002375</td>\n",
       "                        <td id=\"T_9be3ce02_c14b_11eb_b379_04d4c47f111drow2_col2\" class=\"data row2 col2\" >1.000000</td>\n",
       "                        <td id=\"T_9be3ce02_c14b_11eb_b379_04d4c47f111drow2_col3\" class=\"data row2 col3\" >-0.007392</td>\n",
       "                        <td id=\"T_9be3ce02_c14b_11eb_b379_04d4c47f111drow2_col4\" class=\"data row2 col4\" >-0.010445</td>\n",
       "                        <td id=\"T_9be3ce02_c14b_11eb_b379_04d4c47f111drow2_col5\" class=\"data row2 col5\" >-0.000161</td>\n",
       "                        <td id=\"T_9be3ce02_c14b_11eb_b379_04d4c47f111drow2_col6\" class=\"data row2 col6\" >0.053139</td>\n",
       "                        <td id=\"T_9be3ce02_c14b_11eb_b379_04d4c47f111drow2_col7\" class=\"data row2 col7\" >0.001752</td>\n",
       "                        <td id=\"T_9be3ce02_c14b_11eb_b379_04d4c47f111drow2_col8\" class=\"data row2 col8\" >0.002615</td>\n",
       "                        <td id=\"T_9be3ce02_c14b_11eb_b379_04d4c47f111drow2_col9\" class=\"data row2 col9\" >0.002921</td>\n",
       "                        <td id=\"T_9be3ce02_c14b_11eb_b379_04d4c47f111drow2_col10\" class=\"data row2 col10\" >0.101176</td>\n",
       "                        <td id=\"T_9be3ce02_c14b_11eb_b379_04d4c47f111drow2_col11\" class=\"data row2 col11\" >0.012398</td>\n",
       "                        <td id=\"T_9be3ce02_c14b_11eb_b379_04d4c47f111drow2_col12\" class=\"data row2 col12\" >0.003004</td>\n",
       "                        <td id=\"T_9be3ce02_c14b_11eb_b379_04d4c47f111drow2_col13\" class=\"data row2 col13\" >0.015644</td>\n",
       "                        <td id=\"T_9be3ce02_c14b_11eb_b379_04d4c47f111drow2_col14\" class=\"data row2 col14\" >-0.015511</td>\n",
       "            </tr>\n",
       "            <tr>\n",
       "                        <th id=\"T_9be3ce02_c14b_11eb_b379_04d4c47f111dlevel0_row3\" class=\"row_heading level0 row3\" >oven</th>\n",
       "                        <td id=\"T_9be3ce02_c14b_11eb_b379_04d4c47f111drow3_col0\" class=\"data row3 col0\" >0.198626</td>\n",
       "                        <td id=\"T_9be3ce02_c14b_11eb_b379_04d4c47f111drow3_col1\" class=\"data row3 col1\" >0.036529</td>\n",
       "                        <td id=\"T_9be3ce02_c14b_11eb_b379_04d4c47f111drow3_col2\" class=\"data row3 col2\" >-0.007392</td>\n",
       "                        <td id=\"T_9be3ce02_c14b_11eb_b379_04d4c47f111drow3_col3\" class=\"data row3 col3\" >1.000000</td>\n",
       "                        <td id=\"T_9be3ce02_c14b_11eb_b379_04d4c47f111drow3_col4\" class=\"data row3 col4\" >0.010728</td>\n",
       "                        <td id=\"T_9be3ce02_c14b_11eb_b379_04d4c47f111drow3_col5\" class=\"data row3 col5\" >0.016675</td>\n",
       "                        <td id=\"T_9be3ce02_c14b_11eb_b379_04d4c47f111drow3_col6\" class=\"data row3 col6\" >0.085837</td>\n",
       "                        <td id=\"T_9be3ce02_c14b_11eb_b379_04d4c47f111drow3_col7\" class=\"data row3 col7\" >0.000251</td>\n",
       "                        <td id=\"T_9be3ce02_c14b_11eb_b379_04d4c47f111drow3_col8\" class=\"data row3 col8\" >0.067147</td>\n",
       "                        <td id=\"T_9be3ce02_c14b_11eb_b379_04d4c47f111drow3_col9\" class=\"data row3 col9\" >0.188437</td>\n",
       "                        <td id=\"T_9be3ce02_c14b_11eb_b379_04d4c47f111drow3_col10\" class=\"data row3 col10\" >0.185083</td>\n",
       "                        <td id=\"T_9be3ce02_c14b_11eb_b379_04d4c47f111drow3_col11\" class=\"data row3 col11\" >0.095903</td>\n",
       "                        <td id=\"T_9be3ce02_c14b_11eb_b379_04d4c47f111drow3_col12\" class=\"data row3 col12\" >0.112254</td>\n",
       "                        <td id=\"T_9be3ce02_c14b_11eb_b379_04d4c47f111drow3_col13\" class=\"data row3 col13\" >-0.031538</td>\n",
       "                        <td id=\"T_9be3ce02_c14b_11eb_b379_04d4c47f111drow3_col14\" class=\"data row3 col14\" >-0.054968</td>\n",
       "            </tr>\n",
       "            <tr>\n",
       "                        <th id=\"T_9be3ce02_c14b_11eb_b379_04d4c47f111dlevel0_row4\" class=\"row_heading level0 row4\" >wash</th>\n",
       "                        <td id=\"T_9be3ce02_c14b_11eb_b379_04d4c47f111drow4_col0\" class=\"data row4 col0\" >0.038060</td>\n",
       "                        <td id=\"T_9be3ce02_c14b_11eb_b379_04d4c47f111drow4_col1\" class=\"data row4 col1\" >0.001360</td>\n",
       "                        <td id=\"T_9be3ce02_c14b_11eb_b379_04d4c47f111drow4_col2\" class=\"data row4 col2\" >-0.010445</td>\n",
       "                        <td id=\"T_9be3ce02_c14b_11eb_b379_04d4c47f111drow4_col3\" class=\"data row4 col3\" >0.010728</td>\n",
       "                        <td id=\"T_9be3ce02_c14b_11eb_b379_04d4c47f111drow4_col4\" class=\"data row4 col4\" >1.000000</td>\n",
       "                        <td id=\"T_9be3ce02_c14b_11eb_b379_04d4c47f111drow4_col5\" class=\"data row4 col5\" >0.065053</td>\n",
       "                        <td id=\"T_9be3ce02_c14b_11eb_b379_04d4c47f111drow4_col6\" class=\"data row4 col6\" >0.044965</td>\n",
       "                        <td id=\"T_9be3ce02_c14b_11eb_b379_04d4c47f111drow4_col7\" class=\"data row4 col7\" >-0.054333</td>\n",
       "                        <td id=\"T_9be3ce02_c14b_11eb_b379_04d4c47f111drow4_col8\" class=\"data row4 col8\" >0.005053</td>\n",
       "                        <td id=\"T_9be3ce02_c14b_11eb_b379_04d4c47f111drow4_col9\" class=\"data row4 col9\" >0.011816</td>\n",
       "                        <td id=\"T_9be3ce02_c14b_11eb_b379_04d4c47f111drow4_col10\" class=\"data row4 col10\" >0.027232</td>\n",
       "                        <td id=\"T_9be3ce02_c14b_11eb_b379_04d4c47f111drow4_col11\" class=\"data row4 col11\" >-0.006346</td>\n",
       "                        <td id=\"T_9be3ce02_c14b_11eb_b379_04d4c47f111drow4_col12\" class=\"data row4 col12\" >0.028599</td>\n",
       "                        <td id=\"T_9be3ce02_c14b_11eb_b379_04d4c47f111drow4_col13\" class=\"data row4 col13\" >-0.022148</td>\n",
       "                        <td id=\"T_9be3ce02_c14b_11eb_b379_04d4c47f111drow4_col14\" class=\"data row4 col14\" >-0.001121</td>\n",
       "            </tr>\n",
       "            <tr>\n",
       "                        <th id=\"T_9be3ce02_c14b_11eb_b379_04d4c47f111dlevel0_row5\" class=\"row_heading level0 row5\" >dryer</th>\n",
       "                        <td id=\"T_9be3ce02_c14b_11eb_b379_04d4c47f111drow5_col0\" class=\"data row5 col0\" >0.055399</td>\n",
       "                        <td id=\"T_9be3ce02_c14b_11eb_b379_04d4c47f111drow5_col1\" class=\"data row5 col1\" >0.005924</td>\n",
       "                        <td id=\"T_9be3ce02_c14b_11eb_b379_04d4c47f111drow5_col2\" class=\"data row5 col2\" >-0.000161</td>\n",
       "                        <td id=\"T_9be3ce02_c14b_11eb_b379_04d4c47f111drow5_col3\" class=\"data row5 col3\" >0.016675</td>\n",
       "                        <td id=\"T_9be3ce02_c14b_11eb_b379_04d4c47f111drow5_col4\" class=\"data row5 col4\" >0.065053</td>\n",
       "                        <td id=\"T_9be3ce02_c14b_11eb_b379_04d4c47f111drow5_col5\" class=\"data row5 col5\" >1.000000</td>\n",
       "                        <td id=\"T_9be3ce02_c14b_11eb_b379_04d4c47f111drow5_col6\" class=\"data row5 col6\" >0.070596</td>\n",
       "                        <td id=\"T_9be3ce02_c14b_11eb_b379_04d4c47f111drow5_col7\" class=\"data row5 col7\" >-0.039300</td>\n",
       "                        <td id=\"T_9be3ce02_c14b_11eb_b379_04d4c47f111drow5_col8\" class=\"data row5 col8\" >0.000834</td>\n",
       "                        <td id=\"T_9be3ce02_c14b_11eb_b379_04d4c47f111drow5_col9\" class=\"data row5 col9\" >0.009839</td>\n",
       "                        <td id=\"T_9be3ce02_c14b_11eb_b379_04d4c47f111drow5_col10\" class=\"data row5 col10\" >0.042265</td>\n",
       "                        <td id=\"T_9be3ce02_c14b_11eb_b379_04d4c47f111drow5_col11\" class=\"data row5 col11\" >-0.005888</td>\n",
       "                        <td id=\"T_9be3ce02_c14b_11eb_b379_04d4c47f111drow5_col12\" class=\"data row5 col12\" >0.028004</td>\n",
       "                        <td id=\"T_9be3ce02_c14b_11eb_b379_04d4c47f111drow5_col13\" class=\"data row5 col13\" >-0.027731</td>\n",
       "                        <td id=\"T_9be3ce02_c14b_11eb_b379_04d4c47f111drow5_col14\" class=\"data row5 col14\" >-0.024604</td>\n",
       "            </tr>\n",
       "            <tr>\n",
       "                        <th id=\"T_9be3ce02_c14b_11eb_b379_04d4c47f111dlevel0_row6\" class=\"row_heading level0 row6\" >hourofday</th>\n",
       "                        <td id=\"T_9be3ce02_c14b_11eb_b379_04d4c47f111drow6_col0\" class=\"data row6 col0\" >0.266770</td>\n",
       "                        <td id=\"T_9be3ce02_c14b_11eb_b379_04d4c47f111drow6_col1\" class=\"data row6 col1\" >0.151364</td>\n",
       "                        <td id=\"T_9be3ce02_c14b_11eb_b379_04d4c47f111drow6_col2\" class=\"data row6 col2\" >0.053139</td>\n",
       "                        <td id=\"T_9be3ce02_c14b_11eb_b379_04d4c47f111drow6_col3\" class=\"data row6 col3\" >0.085837</td>\n",
       "                        <td id=\"T_9be3ce02_c14b_11eb_b379_04d4c47f111drow6_col4\" class=\"data row6 col4\" >0.044965</td>\n",
       "                        <td id=\"T_9be3ce02_c14b_11eb_b379_04d4c47f111drow6_col5\" class=\"data row6 col5\" >0.070596</td>\n",
       "                        <td id=\"T_9be3ce02_c14b_11eb_b379_04d4c47f111drow6_col6\" class=\"data row6 col6\" >1.000000</td>\n",
       "                        <td id=\"T_9be3ce02_c14b_11eb_b379_04d4c47f111drow6_col7\" class=\"data row6 col7\" >-0.004716</td>\n",
       "                        <td id=\"T_9be3ce02_c14b_11eb_b379_04d4c47f111drow6_col8\" class=\"data row6 col8\" >0.000804</td>\n",
       "                        <td id=\"T_9be3ce02_c14b_11eb_b379_04d4c47f111drow6_col9\" class=\"data row6 col9\" >0.062109</td>\n",
       "                        <td id=\"T_9be3ce02_c14b_11eb_b379_04d4c47f111drow6_col10\" class=\"data row6 col10\" >0.243539</td>\n",
       "                        <td id=\"T_9be3ce02_c14b_11eb_b379_04d4c47f111drow6_col11\" class=\"data row6 col11\" >0.125806</td>\n",
       "                        <td id=\"T_9be3ce02_c14b_11eb_b379_04d4c47f111drow6_col12\" class=\"data row6 col12\" >0.108226</td>\n",
       "                        <td id=\"T_9be3ce02_c14b_11eb_b379_04d4c47f111drow6_col13\" class=\"data row6 col13\" >-0.090149</td>\n",
       "                        <td id=\"T_9be3ce02_c14b_11eb_b379_04d4c47f111drow6_col14\" class=\"data row6 col14\" >-0.090406</td>\n",
       "            </tr>\n",
       "            <tr>\n",
       "                        <th id=\"T_9be3ce02_c14b_11eb_b379_04d4c47f111dlevel0_row7\" class=\"row_heading level0 row7\" >dayofweek</th>\n",
       "                        <td id=\"T_9be3ce02_c14b_11eb_b379_04d4c47f111drow7_col0\" class=\"data row7 col0\" >0.002128</td>\n",
       "                        <td id=\"T_9be3ce02_c14b_11eb_b379_04d4c47f111drow7_col1\" class=\"data row7 col1\" >0.008396</td>\n",
       "                        <td id=\"T_9be3ce02_c14b_11eb_b379_04d4c47f111drow7_col2\" class=\"data row7 col2\" >0.001752</td>\n",
       "                        <td id=\"T_9be3ce02_c14b_11eb_b379_04d4c47f111drow7_col3\" class=\"data row7 col3\" >0.000251</td>\n",
       "                        <td id=\"T_9be3ce02_c14b_11eb_b379_04d4c47f111drow7_col4\" class=\"data row7 col4\" >-0.054333</td>\n",
       "                        <td id=\"T_9be3ce02_c14b_11eb_b379_04d4c47f111drow7_col5\" class=\"data row7 col5\" >-0.039300</td>\n",
       "                        <td id=\"T_9be3ce02_c14b_11eb_b379_04d4c47f111drow7_col6\" class=\"data row7 col6\" >-0.004716</td>\n",
       "                        <td id=\"T_9be3ce02_c14b_11eb_b379_04d4c47f111drow7_col7\" class=\"data row7 col7\" >1.000000</td>\n",
       "                        <td id=\"T_9be3ce02_c14b_11eb_b379_04d4c47f111drow7_col8\" class=\"data row7 col8\" >0.000221</td>\n",
       "                        <td id=\"T_9be3ce02_c14b_11eb_b379_04d4c47f111drow7_col9\" class=\"data row7 col9\" >0.000731</td>\n",
       "                        <td id=\"T_9be3ce02_c14b_11eb_b379_04d4c47f111drow7_col10\" class=\"data row7 col10\" >-0.006238</td>\n",
       "                        <td id=\"T_9be3ce02_c14b_11eb_b379_04d4c47f111drow7_col11\" class=\"data row7 col11\" >0.013426</td>\n",
       "                        <td id=\"T_9be3ce02_c14b_11eb_b379_04d4c47f111drow7_col12\" class=\"data row7 col12\" >-0.015193</td>\n",
       "                        <td id=\"T_9be3ce02_c14b_11eb_b379_04d4c47f111drow7_col13\" class=\"data row7 col13\" >-0.003999</td>\n",
       "                        <td id=\"T_9be3ce02_c14b_11eb_b379_04d4c47f111drow7_col14\" class=\"data row7 col14\" >0.014009</td>\n",
       "            </tr>\n",
       "            <tr>\n",
       "                        <th id=\"T_9be3ce02_c14b_11eb_b379_04d4c47f111dlevel0_row8\" class=\"row_heading level0 row8\" >dif</th>\n",
       "                        <td id=\"T_9be3ce02_c14b_11eb_b379_04d4c47f111drow8_col0\" class=\"data row8 col0\" >0.140416</td>\n",
       "                        <td id=\"T_9be3ce02_c14b_11eb_b379_04d4c47f111drow8_col1\" class=\"data row8 col1\" >0.135890</td>\n",
       "                        <td id=\"T_9be3ce02_c14b_11eb_b379_04d4c47f111drow8_col2\" class=\"data row8 col2\" >0.002615</td>\n",
       "                        <td id=\"T_9be3ce02_c14b_11eb_b379_04d4c47f111drow8_col3\" class=\"data row8 col3\" >0.067147</td>\n",
       "                        <td id=\"T_9be3ce02_c14b_11eb_b379_04d4c47f111drow8_col4\" class=\"data row8 col4\" >0.005053</td>\n",
       "                        <td id=\"T_9be3ce02_c14b_11eb_b379_04d4c47f111drow8_col5\" class=\"data row8 col5\" >0.000834</td>\n",
       "                        <td id=\"T_9be3ce02_c14b_11eb_b379_04d4c47f111drow8_col6\" class=\"data row8 col6\" >0.000804</td>\n",
       "                        <td id=\"T_9be3ce02_c14b_11eb_b379_04d4c47f111drow8_col7\" class=\"data row8 col7\" >0.000221</td>\n",
       "                        <td id=\"T_9be3ce02_c14b_11eb_b379_04d4c47f111drow8_col8\" class=\"data row8 col8\" >1.000000</td>\n",
       "                        <td id=\"T_9be3ce02_c14b_11eb_b379_04d4c47f111drow8_col9\" class=\"data row8 col9\" >0.158961</td>\n",
       "                        <td id=\"T_9be3ce02_c14b_11eb_b379_04d4c47f111drow8_col10\" class=\"data row8 col10\" >0.000291</td>\n",
       "                        <td id=\"T_9be3ce02_c14b_11eb_b379_04d4c47f111drow8_col11\" class=\"data row8 col11\" >0.000245</td>\n",
       "                        <td id=\"T_9be3ce02_c14b_11eb_b379_04d4c47f111drow8_col12\" class=\"data row8 col12\" >-0.000316</td>\n",
       "                        <td id=\"T_9be3ce02_c14b_11eb_b379_04d4c47f111drow8_col13\" class=\"data row8 col13\" >0.003157</td>\n",
       "                        <td id=\"T_9be3ce02_c14b_11eb_b379_04d4c47f111drow8_col14\" class=\"data row8 col14\" >0.000796</td>\n",
       "            </tr>\n",
       "            <tr>\n",
       "                        <th id=\"T_9be3ce02_c14b_11eb_b379_04d4c47f111dlevel0_row9\" class=\"row_heading level0 row9\" >absdif</th>\n",
       "                        <td id=\"T_9be3ce02_c14b_11eb_b379_04d4c47f111drow9_col0\" class=\"data row9 col0\" >0.191160</td>\n",
       "                        <td id=\"T_9be3ce02_c14b_11eb_b379_04d4c47f111drow9_col1\" class=\"data row9 col1\" >0.191702</td>\n",
       "                        <td id=\"T_9be3ce02_c14b_11eb_b379_04d4c47f111drow9_col2\" class=\"data row9 col2\" >0.002921</td>\n",
       "                        <td id=\"T_9be3ce02_c14b_11eb_b379_04d4c47f111drow9_col3\" class=\"data row9 col3\" >0.188437</td>\n",
       "                        <td id=\"T_9be3ce02_c14b_11eb_b379_04d4c47f111drow9_col4\" class=\"data row9 col4\" >0.011816</td>\n",
       "                        <td id=\"T_9be3ce02_c14b_11eb_b379_04d4c47f111drow9_col5\" class=\"data row9 col5\" >0.009839</td>\n",
       "                        <td id=\"T_9be3ce02_c14b_11eb_b379_04d4c47f111drow9_col6\" class=\"data row9 col6\" >0.062109</td>\n",
       "                        <td id=\"T_9be3ce02_c14b_11eb_b379_04d4c47f111drow9_col7\" class=\"data row9 col7\" >0.000731</td>\n",
       "                        <td id=\"T_9be3ce02_c14b_11eb_b379_04d4c47f111drow9_col8\" class=\"data row9 col8\" >0.158961</td>\n",
       "                        <td id=\"T_9be3ce02_c14b_11eb_b379_04d4c47f111drow9_col9\" class=\"data row9 col9\" >1.000000</td>\n",
       "                        <td id=\"T_9be3ce02_c14b_11eb_b379_04d4c47f111drow9_col10\" class=\"data row9 col10\" >0.219058</td>\n",
       "                        <td id=\"T_9be3ce02_c14b_11eb_b379_04d4c47f111drow9_col11\" class=\"data row9 col11\" >0.187246</td>\n",
       "                        <td id=\"T_9be3ce02_c14b_11eb_b379_04d4c47f111drow9_col12\" class=\"data row9 col12\" >0.040619</td>\n",
       "                        <td id=\"T_9be3ce02_c14b_11eb_b379_04d4c47f111drow9_col13\" class=\"data row9 col13\" >-0.061003</td>\n",
       "                        <td id=\"T_9be3ce02_c14b_11eb_b379_04d4c47f111drow9_col14\" class=\"data row9 col14\" >-0.000666</td>\n",
       "            </tr>\n",
       "            <tr>\n",
       "                        <th id=\"T_9be3ce02_c14b_11eb_b379_04d4c47f111dlevel0_row10\" class=\"row_heading level0 row10\" >max</th>\n",
       "                        <td id=\"T_9be3ce02_c14b_11eb_b379_04d4c47f111drow10_col0\" class=\"data row10 col0\" >0.589362</td>\n",
       "                        <td id=\"T_9be3ce02_c14b_11eb_b379_04d4c47f111drow10_col1\" class=\"data row10 col1\" >0.518319</td>\n",
       "                        <td id=\"T_9be3ce02_c14b_11eb_b379_04d4c47f111drow10_col2\" class=\"data row10 col2\" >0.101176</td>\n",
       "                        <td id=\"T_9be3ce02_c14b_11eb_b379_04d4c47f111drow10_col3\" class=\"data row10 col3\" >0.185083</td>\n",
       "                        <td id=\"T_9be3ce02_c14b_11eb_b379_04d4c47f111drow10_col4\" class=\"data row10 col4\" >0.027232</td>\n",
       "                        <td id=\"T_9be3ce02_c14b_11eb_b379_04d4c47f111drow10_col5\" class=\"data row10 col5\" >0.042265</td>\n",
       "                        <td id=\"T_9be3ce02_c14b_11eb_b379_04d4c47f111drow10_col6\" class=\"data row10 col6\" >0.243539</td>\n",
       "                        <td id=\"T_9be3ce02_c14b_11eb_b379_04d4c47f111drow10_col7\" class=\"data row10 col7\" >-0.006238</td>\n",
       "                        <td id=\"T_9be3ce02_c14b_11eb_b379_04d4c47f111drow10_col8\" class=\"data row10 col8\" >0.000291</td>\n",
       "                        <td id=\"T_9be3ce02_c14b_11eb_b379_04d4c47f111drow10_col9\" class=\"data row10 col9\" >0.219058</td>\n",
       "                        <td id=\"T_9be3ce02_c14b_11eb_b379_04d4c47f111drow10_col10\" class=\"data row10 col10\" >1.000000</td>\n",
       "                        <td id=\"T_9be3ce02_c14b_11eb_b379_04d4c47f111drow10_col11\" class=\"data row10 col11\" >0.849075</td>\n",
       "                        <td id=\"T_9be3ce02_c14b_11eb_b379_04d4c47f111drow10_col12\" class=\"data row10 col12\" >-0.167181</td>\n",
       "                        <td id=\"T_9be3ce02_c14b_11eb_b379_04d4c47f111drow10_col13\" class=\"data row10 col13\" >-0.148559</td>\n",
       "                        <td id=\"T_9be3ce02_c14b_11eb_b379_04d4c47f111drow10_col14\" class=\"data row10 col14\" >0.128823</td>\n",
       "            </tr>\n",
       "            <tr>\n",
       "                        <th id=\"T_9be3ce02_c14b_11eb_b379_04d4c47f111dlevel0_row11\" class=\"row_heading level0 row11\" >var</th>\n",
       "                        <td id=\"T_9be3ce02_c14b_11eb_b379_04d4c47f111drow11_col0\" class=\"data row11 col0\" >0.462183</td>\n",
       "                        <td id=\"T_9be3ce02_c14b_11eb_b379_04d4c47f111drow11_col1\" class=\"data row11 col1\" >0.493826</td>\n",
       "                        <td id=\"T_9be3ce02_c14b_11eb_b379_04d4c47f111drow11_col2\" class=\"data row11 col2\" >0.012398</td>\n",
       "                        <td id=\"T_9be3ce02_c14b_11eb_b379_04d4c47f111drow11_col3\" class=\"data row11 col3\" >0.095903</td>\n",
       "                        <td id=\"T_9be3ce02_c14b_11eb_b379_04d4c47f111drow11_col4\" class=\"data row11 col4\" >-0.006346</td>\n",
       "                        <td id=\"T_9be3ce02_c14b_11eb_b379_04d4c47f111drow11_col5\" class=\"data row11 col5\" >-0.005888</td>\n",
       "                        <td id=\"T_9be3ce02_c14b_11eb_b379_04d4c47f111drow11_col6\" class=\"data row11 col6\" >0.125806</td>\n",
       "                        <td id=\"T_9be3ce02_c14b_11eb_b379_04d4c47f111drow11_col7\" class=\"data row11 col7\" >0.013426</td>\n",
       "                        <td id=\"T_9be3ce02_c14b_11eb_b379_04d4c47f111drow11_col8\" class=\"data row11 col8\" >0.000245</td>\n",
       "                        <td id=\"T_9be3ce02_c14b_11eb_b379_04d4c47f111drow11_col9\" class=\"data row11 col9\" >0.187246</td>\n",
       "                        <td id=\"T_9be3ce02_c14b_11eb_b379_04d4c47f111drow11_col10\" class=\"data row11 col10\" >0.849075</td>\n",
       "                        <td id=\"T_9be3ce02_c14b_11eb_b379_04d4c47f111drow11_col11\" class=\"data row11 col11\" >1.000000</td>\n",
       "                        <td id=\"T_9be3ce02_c14b_11eb_b379_04d4c47f111drow11_col12\" class=\"data row11 col12\" >-0.379971</td>\n",
       "                        <td id=\"T_9be3ce02_c14b_11eb_b379_04d4c47f111drow11_col13\" class=\"data row11 col13\" >-0.192372</td>\n",
       "                        <td id=\"T_9be3ce02_c14b_11eb_b379_04d4c47f111drow11_col14\" class=\"data row11 col14\" >0.275612</td>\n",
       "            </tr>\n",
       "            <tr>\n",
       "                        <th id=\"T_9be3ce02_c14b_11eb_b379_04d4c47f111dlevel0_row12\" class=\"row_heading level0 row12\" >entropy</th>\n",
       "                        <td id=\"T_9be3ce02_c14b_11eb_b379_04d4c47f111drow12_col0\" class=\"data row12 col0\" >-0.045828</td>\n",
       "                        <td id=\"T_9be3ce02_c14b_11eb_b379_04d4c47f111drow12_col1\" class=\"data row12 col1\" >-0.164815</td>\n",
       "                        <td id=\"T_9be3ce02_c14b_11eb_b379_04d4c47f111drow12_col2\" class=\"data row12 col2\" >0.003004</td>\n",
       "                        <td id=\"T_9be3ce02_c14b_11eb_b379_04d4c47f111drow12_col3\" class=\"data row12 col3\" >0.112254</td>\n",
       "                        <td id=\"T_9be3ce02_c14b_11eb_b379_04d4c47f111drow12_col4\" class=\"data row12 col4\" >0.028599</td>\n",
       "                        <td id=\"T_9be3ce02_c14b_11eb_b379_04d4c47f111drow12_col5\" class=\"data row12 col5\" >0.028004</td>\n",
       "                        <td id=\"T_9be3ce02_c14b_11eb_b379_04d4c47f111drow12_col6\" class=\"data row12 col6\" >0.108226</td>\n",
       "                        <td id=\"T_9be3ce02_c14b_11eb_b379_04d4c47f111drow12_col7\" class=\"data row12 col7\" >-0.015193</td>\n",
       "                        <td id=\"T_9be3ce02_c14b_11eb_b379_04d4c47f111drow12_col8\" class=\"data row12 col8\" >-0.000316</td>\n",
       "                        <td id=\"T_9be3ce02_c14b_11eb_b379_04d4c47f111drow12_col9\" class=\"data row12 col9\" >0.040619</td>\n",
       "                        <td id=\"T_9be3ce02_c14b_11eb_b379_04d4c47f111drow12_col10\" class=\"data row12 col10\" >-0.167181</td>\n",
       "                        <td id=\"T_9be3ce02_c14b_11eb_b379_04d4c47f111drow12_col11\" class=\"data row12 col11\" >-0.379971</td>\n",
       "                        <td id=\"T_9be3ce02_c14b_11eb_b379_04d4c47f111drow12_col12\" class=\"data row12 col12\" >1.000000</td>\n",
       "                        <td id=\"T_9be3ce02_c14b_11eb_b379_04d4c47f111drow12_col13\" class=\"data row12 col13\" >0.118601</td>\n",
       "                        <td id=\"T_9be3ce02_c14b_11eb_b379_04d4c47f111drow12_col14\" class=\"data row12 col14\" >-0.675542</td>\n",
       "            </tr>\n",
       "            <tr>\n",
       "                        <th id=\"T_9be3ce02_c14b_11eb_b379_04d4c47f111dlevel0_row13\" class=\"row_heading level0 row13\" >nonlinear</th>\n",
       "                        <td id=\"T_9be3ce02_c14b_11eb_b379_04d4c47f111drow13_col0\" class=\"data row13 col0\" >-0.113488</td>\n",
       "                        <td id=\"T_9be3ce02_c14b_11eb_b379_04d4c47f111drow13_col1\" class=\"data row13 col1\" >-0.100162</td>\n",
       "                        <td id=\"T_9be3ce02_c14b_11eb_b379_04d4c47f111drow13_col2\" class=\"data row13 col2\" >0.015644</td>\n",
       "                        <td id=\"T_9be3ce02_c14b_11eb_b379_04d4c47f111drow13_col3\" class=\"data row13 col3\" >-0.031538</td>\n",
       "                        <td id=\"T_9be3ce02_c14b_11eb_b379_04d4c47f111drow13_col4\" class=\"data row13 col4\" >-0.022148</td>\n",
       "                        <td id=\"T_9be3ce02_c14b_11eb_b379_04d4c47f111drow13_col5\" class=\"data row13 col5\" >-0.027731</td>\n",
       "                        <td id=\"T_9be3ce02_c14b_11eb_b379_04d4c47f111drow13_col6\" class=\"data row13 col6\" >-0.090149</td>\n",
       "                        <td id=\"T_9be3ce02_c14b_11eb_b379_04d4c47f111drow13_col7\" class=\"data row13 col7\" >-0.003999</td>\n",
       "                        <td id=\"T_9be3ce02_c14b_11eb_b379_04d4c47f111drow13_col8\" class=\"data row13 col8\" >0.003157</td>\n",
       "                        <td id=\"T_9be3ce02_c14b_11eb_b379_04d4c47f111drow13_col9\" class=\"data row13 col9\" >-0.061003</td>\n",
       "                        <td id=\"T_9be3ce02_c14b_11eb_b379_04d4c47f111drow13_col10\" class=\"data row13 col10\" >-0.148559</td>\n",
       "                        <td id=\"T_9be3ce02_c14b_11eb_b379_04d4c47f111drow13_col11\" class=\"data row13 col11\" >-0.192372</td>\n",
       "                        <td id=\"T_9be3ce02_c14b_11eb_b379_04d4c47f111drow13_col12\" class=\"data row13 col12\" >0.118601</td>\n",
       "                        <td id=\"T_9be3ce02_c14b_11eb_b379_04d4c47f111drow13_col13\" class=\"data row13 col13\" >1.000000</td>\n",
       "                        <td id=\"T_9be3ce02_c14b_11eb_b379_04d4c47f111drow13_col14\" class=\"data row13 col14\" >-0.088826</td>\n",
       "            </tr>\n",
       "            <tr>\n",
       "                        <th id=\"T_9be3ce02_c14b_11eb_b379_04d4c47f111dlevel0_row14\" class=\"row_heading level0 row14\" >hurst</th>\n",
       "                        <td id=\"T_9be3ce02_c14b_11eb_b379_04d4c47f111drow14_col0\" class=\"data row14 col0\" >0.024420</td>\n",
       "                        <td id=\"T_9be3ce02_c14b_11eb_b379_04d4c47f111drow14_col1\" class=\"data row14 col1\" >0.117848</td>\n",
       "                        <td id=\"T_9be3ce02_c14b_11eb_b379_04d4c47f111drow14_col2\" class=\"data row14 col2\" >-0.015511</td>\n",
       "                        <td id=\"T_9be3ce02_c14b_11eb_b379_04d4c47f111drow14_col3\" class=\"data row14 col3\" >-0.054968</td>\n",
       "                        <td id=\"T_9be3ce02_c14b_11eb_b379_04d4c47f111drow14_col4\" class=\"data row14 col4\" >-0.001121</td>\n",
       "                        <td id=\"T_9be3ce02_c14b_11eb_b379_04d4c47f111drow14_col5\" class=\"data row14 col5\" >-0.024604</td>\n",
       "                        <td id=\"T_9be3ce02_c14b_11eb_b379_04d4c47f111drow14_col6\" class=\"data row14 col6\" >-0.090406</td>\n",
       "                        <td id=\"T_9be3ce02_c14b_11eb_b379_04d4c47f111drow14_col7\" class=\"data row14 col7\" >0.014009</td>\n",
       "                        <td id=\"T_9be3ce02_c14b_11eb_b379_04d4c47f111drow14_col8\" class=\"data row14 col8\" >0.000796</td>\n",
       "                        <td id=\"T_9be3ce02_c14b_11eb_b379_04d4c47f111drow14_col9\" class=\"data row14 col9\" >-0.000666</td>\n",
       "                        <td id=\"T_9be3ce02_c14b_11eb_b379_04d4c47f111drow14_col10\" class=\"data row14 col10\" >0.128823</td>\n",
       "                        <td id=\"T_9be3ce02_c14b_11eb_b379_04d4c47f111drow14_col11\" class=\"data row14 col11\" >0.275612</td>\n",
       "                        <td id=\"T_9be3ce02_c14b_11eb_b379_04d4c47f111drow14_col12\" class=\"data row14 col12\" >-0.675542</td>\n",
       "                        <td id=\"T_9be3ce02_c14b_11eb_b379_04d4c47f111drow14_col13\" class=\"data row14 col13\" >-0.088826</td>\n",
       "                        <td id=\"T_9be3ce02_c14b_11eb_b379_04d4c47f111drow14_col14\" class=\"data row14 col14\" >1.000000</td>\n",
       "            </tr>\n",
       "    </tbody></table>"
      ],
      "text/plain": [
       "<pandas.io.formats.style.Styler at 0x192a89bb198>"
      ]
     },
     "execution_count": 5,
     "metadata": {},
     "output_type": "execute_result"
    }
   ],
   "source": [
    "# Getting the correlation heat map\n",
    "df.corr().style.background_gradient(cmap='coolwarm')"
   ]
  },
  {
   "cell_type": "markdown",
   "metadata": {},
   "source": [
    "From above corrwlation map we can figure out following:<br>\n",
    "- Label AC is highly correlated with feature load, that is 0.908, and then partially correlated to max and var feature.\n",
    "- For other labels EV, Oven, Wash, Dryer as we can see there is no high/partially both positive or negative correlation with any feature.\n",
    "- But amoung features, max and var are again highly correlated.\n",
    "- There is negative correlation of -0.675 between hurst and entropy."
   ]
  },
  {
   "cell_type": "markdown",
   "metadata": {},
   "source": [
    "#### Label AC load distribution"
   ]
  },
  {
   "cell_type": "code",
   "execution_count": 6,
   "metadata": {},
   "outputs": [
    {
     "data": {
      "text/plain": [
       "Text(0.5, 1.0, 'AC load distribution')"
      ]
     },
     "execution_count": 6,
     "metadata": {},
     "output_type": "execute_result"
    },
    {
     "data": {
      "image/png": "[encoded data removed]",
      "text/plain": [
       "<Figure size 1200x480 with 1 Axes>"
      ]
     },
     "metadata": {
      "needs_background": "light"
     },
     "output_type": "display_data"
    }
   ],
   "source": [
    "figure(figsize=(15, 6), dpi=80)\n",
    "sns.histplot(data=df, x=\"load\", hue=\"ac\")\n",
    "plt.title(\"AC load distribution\")"
   ]
  },
  {
   "cell_type": "markdown",
   "metadata": {},
   "source": [
    "#### Label EV load distribution"
   ]
  },
  {
   "cell_type": "code",
   "execution_count": 7,
   "metadata": {},
   "outputs": [
    {
     "data": {
      "text/plain": [
       "<matplotlib.axes._subplots.AxesSubplot at 0x192aefed630>"
      ]
     },
     "execution_count": 7,
     "metadata": {},
     "output_type": "execute_result"
    },
    {
     "data": {
      "text/plain": [
       "<Figure size 1200x640 with 0 Axes>"
      ]
     },
     "metadata": {},
     "output_type": "display_data"
    },
    {
     "data": {
      "image/png": "[encoded data removed]",
      "text/plain": [
       "<Figure size 1152x288 with 2 Axes>"
      ]
     },
     "metadata": {
      "needs_background": "light"
     },
     "output_type": "display_data"
    }
   ],
   "source": [
    "figure(figsize=(15, 8), dpi=80)\n",
    "fig, ax =plt.subplots(2,1)\n",
    "sns.histplot(data=df[df['ev'] == 0], x=\"load\", hue=\"ev\", ax = ax[0])\n",
    "sns.histplot(data=df[df['ev'] == 1], x=\"load\", hue=\"ev\", ax = ax[1])"
   ]
  },
  {
   "cell_type": "markdown",
   "metadata": {},
   "source": [
    "#### Label Oven load distribution"
   ]
  },
  {
   "cell_type": "code",
   "execution_count": 8,
   "metadata": {},
   "outputs": [
    {
     "data": {
      "text/plain": [
       "<matplotlib.axes._subplots.AxesSubplot at 0x192afea87b8>"
      ]
     },
     "execution_count": 8,
     "metadata": {},
     "output_type": "execute_result"
    },
    {
     "data": {
      "text/plain": [
       "<Figure size 1200x640 with 0 Axes>"
      ]
     },
     "metadata": {},
     "output_type": "display_data"
    },
    {
     "data": {
      "image/png": "[encoded data removed]",
      "text/plain": [
       "<Figure size 1152x288 with 2 Axes>"
      ]
     },
     "metadata": {
      "needs_background": "light"
     },
     "output_type": "display_data"
    }
   ],
   "source": [
    "figure(figsize=(15, 8), dpi=80)\n",
    "fig, ax =plt.subplots(2,1)\n",
    "sns.histplot(data=df[df['oven'] == 0], x=\"load\", hue=\"oven\", ax = ax[0])\n",
    "sns.histplot(data=df[df['oven'] == 1], x=\"load\", hue=\"oven\", ax = ax[1])"
   ]
  },
  {
   "cell_type": "markdown",
   "metadata": {},
   "source": [
    "#### Label Wash load distribution"
   ]
  },
  {
   "cell_type": "code",
   "execution_count": 9,
   "metadata": {},
   "outputs": [
    {
     "data": {
      "text/plain": [
       "<matplotlib.axes._subplots.AxesSubplot at 0x192a8016a58>"
      ]
     },
     "execution_count": 9,
     "metadata": {},
     "output_type": "execute_result"
    },
    {
     "data": {
      "text/plain": [
       "<Figure size 1200x800 with 0 Axes>"
      ]
     },
     "metadata": {},
     "output_type": "display_data"
    },
    {
     "data": {
      "image/png": "[encoded data removed]",
      "text/plain": [
       "<Figure size 1152x288 with 2 Axes>"
      ]
     },
     "metadata": {
      "needs_background": "light"
     },
     "output_type": "display_data"
    }
   ],
   "source": [
    "figure(figsize=(15, 10), dpi=80)\n",
    "fig, ax =plt.subplots(2,1)\n",
    "sns.histplot(data=df[df['wash'] == 0], x=\"load\", hue=\"wash\", ax = ax[0])\n",
    "sns.histplot(data=df[df['wash'] == 1], x=\"load\", hue=\"wash\", ax = ax[1])"
   ]
  },
  {
   "cell_type": "markdown",
   "metadata": {},
   "source": [
    "#### Label Dryer load distribution"
   ]
  },
  {
   "cell_type": "code",
   "execution_count": 10,
   "metadata": {},
   "outputs": [
    {
     "data": {
      "text/plain": [
       "<matplotlib.axes._subplots.AxesSubplot at 0x192afcee6a0>"
      ]
     },
     "execution_count": 10,
     "metadata": {},
     "output_type": "execute_result"
    },
    {
     "data": {
      "text/plain": [
       "<Figure size 1200x800 with 0 Axes>"
      ]
     },
     "metadata": {},
     "output_type": "display_data"
    },
    {
     "data": {
      "image/png": "[encoded data removed]",
      "text/plain": [
       "<Figure size 1152x288 with 2 Axes>"
      ]
     },
     "metadata": {
      "needs_background": "light"
     },
     "output_type": "display_data"
    }
   ],
   "source": [
    "figure(figsize=(15, 10), dpi=80)\n",
    "fig, ax =plt.subplots(2,1)\n",
    "sns.histplot(data=df[df['dryer'] == 0], x=\"load\", hue=\"dryer\", ax = ax[0])\n",
    "sns.histplot(data=df[df['dryer'] == 1], x=\"load\", hue=\"dryer\", ax = ax[1])"
   ]
  },
  {
   "cell_type": "code",
   "execution_count": null,
   "metadata": {
    "scrolled": false
   },
   "outputs": [],
   "source": []
  },
  {
   "cell_type": "markdown",
   "metadata": {},
   "source": [
    "### Sampling Function"
   ]
  },
  {
   "cell_type": "code",
   "execution_count": 11,
   "metadata": {},
   "outputs": [],
   "source": [
    "def sample(appliance, x=1):\n",
    "    # get label name\n",
    "    txt = appliance\n",
    "    # select all rows having lable value 0\n",
    "    ac_off = df[df[txt] == 0]\n",
    "    # select all rows having lable value 1\n",
    "    ac_on = df[df[txt] == 1]\n",
    "    # create a limiter\n",
    "    limit = len(ac_on) * x\n",
    "    # limit the number of data points\n",
    "    ac_off = ac_off.sample(n = limit)\n",
    "    # Concat the data for 0 and 1\n",
    "    df_ac = pd.concat([ac_off, ac_on])\n",
    "    # get the label \n",
    "    Y = df_ac[txt]\n",
    "    # get all the features and remove target variables\n",
    "    X = df_ac[[x for x in df_ac.columns if (x != 'ac') and (x != 'ev') and (x != 'oven') and (x != 'wash') and (x != 'dryer')]]\n",
    "    \n",
    "    return X,Y"
   ]
  },
  {
   "cell_type": "markdown",
   "metadata": {},
   "source": [
    "### Training/Testing Data and SMOTE for AC"
   ]
  },
  {
   "cell_type": "code",
   "execution_count": 12,
   "metadata": {},
   "outputs": [
    {
     "name": "stdout",
     "output_type": "stream",
     "text": [
      "Dimension of X dataframe before SMOTE: (303597, 10) \n",
      "Dimension of X dataframe after SMOTE: (404796, 10)\n",
      "\n",
      "positive and negative classes (%):\n"
     ]
    }
   ],
   "source": [
    "# Training and testing data\n",
    "# calling the sample fucntion for ac label\n",
    "X,Y = sample(\"ac\",2)\n",
    "\n",
    "# create SMOTE object\n",
    "sm = SMOTE()\n",
    "\n",
    "# Resample the data\n",
    "X_sm, y_sm = sm.fit_resample(X, Y)\n",
    "\n",
    "print(\"Dimension of X dataframe before SMOTE: {} \\nDimension of X dataframe after SMOTE: {}\".format(X.shape, X_sm.shape))\n",
    "\n",
    "print('\\npositive and negative classes (%):')\n",
    "y_sm.value_counts(normalize=True) * 100\n",
    "\n",
    "# split data in training and testing 80 training and 20 testing\n",
    "X_train, X_test, y_train, y_test = train_test_split(X_sm,y_sm, test_size=0.2, random_state=13)"
   ]
  },
  {
   "cell_type": "code",
   "execution_count": 13,
   "metadata": {},
   "outputs": [],
   "source": [
    "for i in range(1,len(X_train.columns)):\n",
    "    XGB = XGBClassifier(eval_metric = 'logloss') \n",
    "    ac_fs = RFE(XGB, n_features_to_select=i, step=1).fit(X_train, y_train)\n",
    "    ac_fs.get_support()\n",
    "    print(X_train.columns[ac_fs.get_support()])"
   ]
  },
  {
   "cell_type": "markdown",
   "metadata": {},
   "source": [
    "### XG Boost for AC"
   ]
  },
  {
   "cell_type": "code",
   "execution_count": 14,
   "metadata": {},
   "outputs": [
    {
     "name": "stdout",
     "output_type": "stream",
     "text": [
      "[23:33:39] WARNING: C:/Users/Administrator/workspace/xgboost-win64_release_1.4.0/src/learner.cc:1095: Starting in XGBoost 1.3.0, the default evaluation metric used with the objective 'binary:logistic' was changed from 'error' to 'logloss'. Explicitly set eval_metric if you'd like to restore the old behavior.\n",
      "F1 Score at training data:  [0.99515246 0.99513891]\n",
      "\n",
      "Confusion Matrix for training data: \n",
      " [[161358    691]\n",
      " [   881 160906]]\n",
      "\n",
      "ON Testing SET-----------------------\n",
      "\n",
      "F1 Score at testing data:  [0.99233427 0.99237412]\n",
      "\n",
      "Confusion Matrix for testing data: \n",
      " [[40065   284]\n",
      " [  335 40276]]\n"
     ]
    },
    {
     "data": {
      "text/plain": [
       "<sklearn.metrics._plot.confusion_matrix.ConfusionMatrixDisplay at 0x192afa9eb00>"
      ]
     },
     "execution_count": 14,
     "metadata": {},
     "output_type": "execute_result"
    },
    {
     "data": {
      "image/png": "[encoded data removed]",
      "text/plain": [
       "<Figure size 1152x288 with 2 Axes>"
      ]
     },
     "metadata": {
      "needs_background": "light"
     },
     "output_type": "display_data"
    }
   ],
   "source": [
    "# Keeping relevent features only\n",
    "X_train = X_train[['load', 'hourofday', 'dayofweek', 'absdif', 'max', 'var', 'hurst']]\n",
    "X_test = X_test[['load', 'hourofday', 'dayofweek', 'absdif', 'max', 'var', 'hurst']]\n",
    "\n",
    "# create XGB object\n",
    "XGB = XGBClassifier()\n",
    "# fit the model on training set\n",
    "XGB.fit(X_train, y_train)\n",
    "# predcit the data on training set\n",
    "y_pred = XGB.predict(X_train)\n",
    "# get the confusion matrix\n",
    "matrix = confusion_matrix(y_train, y_pred)\n",
    "\n",
    "print(\"F1 Score at training data: \", f1_score(y_train, y_pred, average=None))\n",
    "\n",
    "print(\"\\nConfusion Matrix for training data: \\n\", matrix)\n",
    "print(\"\\nON Testing SET-----------------------\\n\")\n",
    "\n",
    "# predcit the data on testing set\n",
    "y_pred = XGB.predict(X_test)\n",
    "# get the confusion matrix for testing set\n",
    "matrix = confusion_matrix(y_test, y_pred)\n",
    "\n",
    "print(\"F1 Score at testing data: \",f1_score(y_test, y_pred, average=None))\n",
    "\n",
    "print(\"\\nConfusion Matrix for testing data: \\n\",matrix)\n",
    "\n",
    "plot_confusion_matrix(XGB, X=X_test, y_true= y_test)"
   ]
  },
  {
   "cell_type": "code",
   "execution_count": 15,
   "metadata": {},
   "outputs": [
    {
     "name": "stdout",
     "output_type": "stream",
     "text": [
      "F1: 0.991 (0.001)\n",
      "Score for each validation and testing set [0.99110949 0.98988385 0.99195445 0.99024152 0.9905417  0.99070385\n",
      " 0.98896192 0.99207332 0.99154439 0.99162768]\n"
     ]
    }
   ],
   "source": [
    "# Cross Validation\n",
    "cv = KFold(n_splits=10)\n",
    "n_scores = cross_val_score(XGB, X_test, y_test, scoring='f1', cv=cv, n_jobs=-1, error_score='raise')\n",
    "# report performance\n",
    "print('F1: %.3f (%.3f)' % (np.mean(n_scores), np.std(n_scores)))\n",
    "print(\"Score for each validation and testing set\", n_scores)"
   ]
  },
  {
   "cell_type": "code",
   "execution_count": 16,
   "metadata": {},
   "outputs": [],
   "source": [
    "# Predicting on test set AC label\n",
    "ac_1 = XGB.predict(df_test[['load', 'hourofday', 'dayofweek', 'absdif', 'max', 'var', 'hurst']])"
   ]
  },
  {
   "cell_type": "code",
   "execution_count": 17,
   "metadata": {},
   "outputs": [
    {
     "name": "stdout",
     "output_type": "stream",
     "text": [
      "F1 Score for all training data:  [0.99614849 0.98803814]\n",
      "\n",
      "Confusion Matrix for all training data: \n",
      " [[314763   1758]\n",
      " [   676 100523]]\n"
     ]
    }
   ],
   "source": [
    "a = XGB.predict(df[['load', 'hourofday', 'dayofweek', 'absdif', 'max', 'var', 'hurst']])\n",
    "print(\"F1 Score for all training data: \",f1_score(df['ac'], a, average=None))\n",
    "matrix = confusion_matrix(df['ac'], a)\n",
    "print(\"\\nConfusion Matrix for all training data: \\n\", matrix)"
   ]
  },
  {
   "cell_type": "markdown",
   "metadata": {},
   "source": [
    "### Training/Testing Data and SMOTE for EV"
   ]
  },
  {
   "cell_type": "code",
   "execution_count": 18,
   "metadata": {},
   "outputs": [
    {
     "name": "stdout",
     "output_type": "stream",
     "text": [
      "Dimension of X dataframe before SMOTE: (21015, 10) \n",
      "Dimension of X dataframe after SMOTE: (37360, 10)\n",
      "\n",
      "positive and negative classes (%):\n"
     ]
    }
   ],
   "source": [
    "# Training and testing data\n",
    "X,Y = sample(\"ev\",8)\n",
    "\n",
    "X_sm, y_sm = sm.fit_resample(X, Y)\n",
    "\n",
    "print(\"Dimension of X dataframe before SMOTE: {} \\nDimension of X dataframe after SMOTE: {}\".format(X.shape, X_sm.shape))\n",
    "\n",
    "print('\\npositive and negative classes (%):')\n",
    "y_sm.value_counts(normalize=True) * 100\n",
    "\n",
    "# split data in training and testing 80 training and 20 testing\n",
    "X_train_ev, X_test_ev, y_train_ev, y_test_ev = train_test_split(X_sm,y_sm, test_size=0.2, random_state=13)\n"
   ]
  },
  {
   "cell_type": "code",
   "execution_count": 19,
   "metadata": {},
   "outputs": [],
   "source": [
    "for i in range(1,len(X_train_ev.columns)):\n",
    "    XGB_ev = XGBClassifier(eval_metric = 'logloss') \n",
    "    ac_fs = RFE(XGB_ev, n_features_to_select=i, step=1).fit(X_train_ev, y_train_ev)\n",
    "    ac_fs.get_support()\n",
    "    print(X_train_ev.columns[ac_fs.get_support()])\n",
    "    \n",
    "    ac_rf_pred = ac_fs.predict(X = X_test_ev)\n",
    "    print(confusion_matrix(y_true = y_test_ev, y_pred = ac_rf_pred))"
   ]
  },
  {
   "cell_type": "markdown",
   "metadata": {},
   "source": [
    "### XG Boost for EV"
   ]
  },
  {
   "cell_type": "code",
   "execution_count": 20,
   "metadata": {},
   "outputs": [
    {
     "name": "stdout",
     "output_type": "stream",
     "text": [
      "[23:34:31] WARNING: C:/Users/Administrator/workspace/xgboost-win64_release_1.4.0/src/learner.cc:1095: Starting in XGBoost 1.3.0, the default evaluation metric used with the objective 'binary:logistic' was changed from 'error' to 'logloss'. Explicitly set eval_metric if you'd like to restore the old behavior.\n",
      "F1 Score at training data:  [1. 1.]\n",
      "\n",
      "Confusion Matrix for training data: \n",
      " [[14886     0]\n",
      " [    0 15002]]\n",
      "\n",
      "ON Testing SET-----------------------\n",
      "\n",
      "F1 Score at testing data:  [0.99498548 0.99484116]\n",
      "\n",
      "Confusion Matrix for testing data: \n",
      " [[3770   24]\n",
      " [  14 3664]]\n"
     ]
    },
    {
     "data": {
      "text/plain": [
       "<sklearn.metrics._plot.confusion_matrix.ConfusionMatrixDisplay at 0x192b3b9afd0>"
      ]
     },
     "execution_count": 20,
     "metadata": {},
     "output_type": "execute_result"
    },
    {
     "data": {
      "image/png": "[encoded data removed]",
      "text/plain": [
       "<Figure size 1152x288 with 2 Axes>"
      ]
     },
     "metadata": {
      "needs_background": "light"
     },
     "output_type": "display_data"
    }
   ],
   "source": [
    "X_train_ev = X_train_ev[['load', 'hourofday', 'dayofweek', 'max', 'var', 'hurst']]\n",
    "X_test_ev = X_test_ev[['load', 'hourofday', 'dayofweek', 'max', 'var', 'hurst']]\n",
    "\n",
    "# create XGB object\n",
    "XGB_ev = XGBClassifier()\n",
    "# fit the model on training set\n",
    "XGB_ev.fit(X_train_ev, y_train_ev)\n",
    "# predcit the data on training set\n",
    "y_pred_ev = XGB_ev.predict(X_train_ev)\n",
    "# get the confusion matrix\n",
    "matrix = confusion_matrix(y_train_ev, y_pred_ev)\n",
    "\n",
    "print(\"F1 Score at training data: \", f1_score(y_train_ev, y_pred_ev, average=None))\n",
    "\n",
    "print(\"\\nConfusion Matrix for training data: \\n\", matrix)\n",
    "print(\"\\nON Testing SET-----------------------\\n\")\n",
    "\n",
    "# predcit the data on testing set\n",
    "y_pred_ev = XGB_ev.predict(X_test_ev)\n",
    "# get the confusion matrix for testing set\n",
    "matrix = confusion_matrix(y_test_ev, y_pred_ev)\n",
    "\n",
    "print(\"F1 Score at testing data: \",f1_score(y_test_ev, y_pred_ev, average=None))\n",
    "\n",
    "print(\"\\nConfusion Matrix for testing data: \\n\",matrix)\n",
    "\n",
    "plot_confusion_matrix(XGB_ev, X=X_test_ev, y_true= y_test_ev)"
   ]
  },
  {
   "cell_type": "code",
   "execution_count": 21,
   "metadata": {},
   "outputs": [
    {
     "name": "stdout",
     "output_type": "stream",
     "text": [
      "F1: 0.990 (0.003)\n",
      "Score for each validation and testing set [0.99321574 0.98778833 0.99552906 0.99212598 0.98853503 0.98333333\n",
      " 0.99164345 0.98580645 0.99031812 0.992     ]\n"
     ]
    }
   ],
   "source": [
    "# Cross Validation\n",
    "cv = KFold(n_splits=10)\n",
    "n_scores = cross_val_score(XGB_ev, X_test_ev, y_test_ev, scoring='f1', cv=cv, n_jobs=-1, error_score='raise')\n",
    "# report performance\n",
    "print('F1: %.3f (%.3f)' % (np.mean(n_scores), np.std(n_scores)))\n",
    "print(\"Score for each validation and testing set\", n_scores)"
   ]
  },
  {
   "cell_type": "code",
   "execution_count": 22,
   "metadata": {},
   "outputs": [],
   "source": [
    "# predicting on Test set EV\n",
    "ev = XGB_ev.predict(df_test[['load', 'hourofday', 'dayofweek', 'max', 'var', 'hurst']])"
   ]
  },
  {
   "cell_type": "code",
   "execution_count": 23,
   "metadata": {},
   "outputs": [
    {
     "name": "stdout",
     "output_type": "stream",
     "text": [
      "F1 Score for all training data:  [0.99748156 0.69086061]\n",
      "\n",
      "Confusion Matrix for all training data: \n",
      " [[413301   2084]\n",
      " [     3   2332]]\n"
     ]
    }
   ],
   "source": [
    "a = XGB_ev.predict(df[['load', 'hourofday', 'dayofweek', 'max', 'var', 'hurst']])\n",
    "print(\"F1 Score for all training data: \",f1_score(df['ev'], a, average=None))\n",
    "matrix = confusion_matrix(df['ev'], a)\n",
    "print(\"\\nConfusion Matrix for all training data: \\n\", matrix)"
   ]
  },
  {
   "cell_type": "markdown",
   "metadata": {},
   "source": [
    "### Training/Testing Data and SMOTE for Oven"
   ]
  },
  {
   "cell_type": "code",
   "execution_count": 24,
   "metadata": {},
   "outputs": [
    {
     "name": "stdout",
     "output_type": "stream",
     "text": [
      "Dimension of X dataframe before SMOTE: (53604, 10) \n",
      "Dimension of X dataframe after SMOTE: (95296, 10)\n",
      "\n",
      "positive and negative classes (%):\n"
     ]
    }
   ],
   "source": [
    "# Training and testing data\n",
    "X,Y = sample(\"oven\",8)\n",
    "\n",
    "X_sm, y_sm = sm.fit_resample(X, Y)\n",
    "\n",
    "print(\"Dimension of X dataframe before SMOTE: {} \\nDimension of X dataframe after SMOTE: {}\".format(X.shape, X_sm.shape))\n",
    "\n",
    "print('\\npositive and negative classes (%):')\n",
    "y_sm.value_counts(normalize=True) * 100\n",
    "\n",
    "# split data in training and testing 80 training and 20 testing\n",
    "X_train_oven, X_test_oven, y_train_oven, y_test_oven = train_test_split(X_sm,y_sm, test_size=0.2, random_state=13)\n"
   ]
  },
  {
   "cell_type": "code",
   "execution_count": 25,
   "metadata": {},
   "outputs": [],
   "source": [
    "for i in range(1,len(X_train_oven.columns)):\n",
    "    XGB_oven = XGBClassifier(eval_metric = 'logloss') \n",
    "    ac_fs = RFE(XGB_oven, n_features_to_select=i, step=1).fit(X_train_oven, y_train_oven)\n",
    "    ac_fs.get_support()\n",
    "    print(X_train_oven.columns[ac_fs.get_support()])\n",
    "    \n",
    "    ac_rf_pred = ac_fs.predict(X = X_test_oven)\n",
    "    print(confusion_matrix(y_true = y_test_oven, y_pred = ac_rf_pred))"
   ]
  },
  {
   "cell_type": "markdown",
   "metadata": {},
   "source": [
    "### XGBoost for Oven"
   ]
  },
  {
   "cell_type": "code",
   "execution_count": 26,
   "metadata": {},
   "outputs": [
    {
     "name": "stdout",
     "output_type": "stream",
     "text": [
      "[23:34:39] WARNING: C:/Users/Administrator/workspace/xgboost-win64_release_1.4.0/src/learner.cc:1095: Starting in XGBoost 1.3.0, the default evaluation metric used with the objective 'binary:logistic' was changed from 'error' to 'logloss'. Explicitly set eval_metric if you'd like to restore the old behavior.\n",
      "F1 Score at training data:  [0.99447659 0.99453095]\n",
      "\n",
      "Confusion Matrix for training data: \n",
      " [[37720   358]\n",
      " [   61 38097]]\n",
      "\n",
      "ON Testing SET-----------------------\n",
      "\n",
      "F1 Score at testing data:  [0.98790365 0.9879619 ]\n",
      "\n",
      "Confusion Matrix for testing data: \n",
      " [[9392  178]\n",
      " [  52 9438]]\n"
     ]
    },
    {
     "data": {
      "text/plain": [
       "<sklearn.metrics._plot.confusion_matrix.ConfusionMatrixDisplay at 0x192b36ce128>"
      ]
     },
     "execution_count": 26,
     "metadata": {},
     "output_type": "execute_result"
    },
    {
     "data": {
      "image/png": "[encoded data removed]",
      "text/plain": [
       "<Figure size 1152x288 with 2 Axes>"
      ]
     },
     "metadata": {
      "needs_background": "light"
     },
     "output_type": "display_data"
    }
   ],
   "source": [
    "X_train_oven = X_train_oven[['load', 'hourofday', 'max', 'var', 'hurst']]\n",
    "X_test_oven = X_test_oven[['load', 'hourofday', 'max', 'var', 'hurst']]\n",
    "\n",
    "# create XGB object\n",
    "XGB_oven = XGBClassifier()\n",
    "# fit the model on training set\n",
    "XGB_oven.fit(X_train_oven, y_train_oven)\n",
    "# predcit the data on training set\n",
    "y_pred_oven = XGB_oven.predict(X_train_oven)\n",
    "# get the confusion matrix\n",
    "matrix = confusion_matrix(y_train_oven, y_pred_oven)\n",
    "\n",
    "print(\"F1 Score at training data: \", f1_score(y_train_oven, y_pred_oven, average=None))\n",
    "\n",
    "print(\"\\nConfusion Matrix for training data: \\n\", matrix)\n",
    "print(\"\\nON Testing SET-----------------------\\n\")\n",
    "\n",
    "# predcit the data on testing set\n",
    "y_pred_oven = XGB_oven.predict(X_test_oven)\n",
    "# get the confusion matrix for testing set\n",
    "matrix = confusion_matrix(y_test_oven, y_pred_oven)\n",
    "\n",
    "print(\"F1 Score at testing data: \",f1_score(y_test_oven, y_pred_oven, average=None))\n",
    "\n",
    "print(\"\\nConfusion Matrix for testing data: \\n\",matrix)\n",
    "\n",
    "plot_confusion_matrix(XGB_oven, X=X_test_oven, y_true= y_test_oven)"
   ]
  },
  {
   "cell_type": "code",
   "execution_count": 27,
   "metadata": {},
   "outputs": [
    {
     "name": "stdout",
     "output_type": "stream",
     "text": [
      "F1: 0.983 (0.003)\n",
      "Score for each validation and testing set [0.98493506 0.9841756  0.98570672 0.980918   0.98010471 0.98338525\n",
      " 0.97547684 0.98701299 0.98662551 0.98214286]\n"
     ]
    }
   ],
   "source": [
    "# Cross Validation\n",
    "cv = KFold(n_splits=10)\n",
    "n_scores = cross_val_score(XGB_oven, X_test_oven, y_test_oven, scoring='f1', cv=cv, n_jobs=-1, error_score='raise')\n",
    "# report performance\n",
    "print('F1: %.3f (%.3f)' % (np.mean(n_scores), np.std(n_scores)))\n",
    "print(\"Score for each validation and testing set\", n_scores)"
   ]
  },
  {
   "cell_type": "code",
   "execution_count": 28,
   "metadata": {},
   "outputs": [],
   "source": [
    "oven = XGB_oven.predict(df_test[['load', 'hourofday', 'max', 'var', 'hurst']])"
   ]
  },
  {
   "cell_type": "code",
   "execution_count": 29,
   "metadata": {},
   "outputs": [
    {
     "name": "stdout",
     "output_type": "stream",
     "text": [
      "F1 Score for all training data:  [0.99146237 0.62954304]\n",
      "\n",
      "Confusion Matrix for all training data: \n",
      " [[404824   6940]\n",
      " [    32   5924]]\n"
     ]
    }
   ],
   "source": [
    "a = XGB_oven.predict(df[['load', 'hourofday', 'max', 'var', 'hurst']])\n",
    "print(\"F1 Score for all training data: \",f1_score(df['oven'], a, average=None))\n",
    "matrix = confusion_matrix(df['oven'], a)\n",
    "print(\"\\nConfusion Matrix for all training data: \\n\", matrix)"
   ]
  },
  {
   "cell_type": "markdown",
   "metadata": {},
   "source": [
    "### Training/Testing Data and SMOTE for Wash"
   ]
  },
  {
   "cell_type": "code",
   "execution_count": 30,
   "metadata": {},
   "outputs": [
    {
     "name": "stdout",
     "output_type": "stream",
     "text": [
      "Dimension of X dataframe before SMOTE: (31812, 10) \n",
      "Dimension of X dataframe after SMOTE: (47718, 10)\n",
      "\n",
      "positive and negative classes (%):\n"
     ]
    }
   ],
   "source": [
    "# Training and testing data\n",
    "X,Y = sample(\"wash\",3)\n",
    "\n",
    "X_sm, y_sm = sm.fit_resample(X, Y)\n",
    "\n",
    "print(\"Dimension of X dataframe before SMOTE: {} \\nDimension of X dataframe after SMOTE: {}\".format(X.shape, X_sm.shape))\n",
    "\n",
    "print('\\npositive and negative classes (%):')\n",
    "y_sm.value_counts(normalize=True) * 100\n",
    "\n",
    "# split data in training and testing 80 training and 20 testing\n",
    "X_train_wash, X_test_wash, y_train_wash, y_test_wash = train_test_split(X_sm,y_sm, test_size=0.2, random_state=13)"
   ]
  },
  {
   "cell_type": "code",
   "execution_count": 31,
   "metadata": {},
   "outputs": [],
   "source": [
    "for i in range(1,len(X_train_wash.columns)):\n",
    "    XGB_wash = XGBClassifier(eval_metric = 'logloss') \n",
    "    ac_fs = RFE(XGB_wash, n_features_to_select=i, step=1).fit(X_train_wash, y_train_wash)\n",
    "    ac_fs.get_support()\n",
    "    print(X_train_wash.columns[ac_fs.get_support()])\n",
    "    \n",
    "    ac_rf_pred = ac_fs.predict(X = X_test_wash)\n",
    "    print(confusion_matrix(y_true = y_test_wash, y_pred = ac_rf_pred))"
   ]
  },
  {
   "cell_type": "markdown",
   "metadata": {},
   "source": [
    "### XG Boost for Wash"
   ]
  },
  {
   "cell_type": "code",
   "execution_count": 32,
   "metadata": {},
   "outputs": [
    {
     "name": "stdout",
     "output_type": "stream",
     "text": [
      "[23:34:50] WARNING: C:/Users/Administrator/workspace/xgboost-win64_release_1.4.0/src/learner.cc:1095: Starting in XGBoost 1.3.0, the default evaluation metric used with the objective 'binary:logistic' was changed from 'error' to 'logloss'. Explicitly set eval_metric if you'd like to restore the old behavior.\n",
      "F1 Score at training data:  [0.96666845 0.96802341]\n",
      "\n",
      "Confusion Matrix for training data: \n",
      " [[18068  1014]\n",
      " [  232 18860]]\n",
      "\n",
      "ON Testing SET-----------------------\n",
      "\n",
      "F1 Score at testing data:  [0.94582126 0.94829528]\n",
      "\n",
      "Confusion Matrix for testing data: \n",
      " [[4408  369]\n",
      " [ 136 4631]]\n"
     ]
    },
    {
     "data": {
      "text/plain": [
       "<sklearn.metrics._plot.confusion_matrix.ConfusionMatrixDisplay at 0x192a800a860>"
      ]
     },
     "execution_count": 32,
     "metadata": {},
     "output_type": "execute_result"
    },
    {
     "data": {
      "image/png": "[encoded data removed]",
      "text/plain": [
       "<Figure size 1152x288 with 2 Axes>"
      ]
     },
     "metadata": {
      "needs_background": "light"
     },
     "output_type": "display_data"
    }
   ],
   "source": [
    "X_train_wash = X_train_wash[['load', 'hourofday', 'dayofweek', 'absdif', 'max', 'var', 'hurst']]\n",
    "X_test_wash = X_test_wash[['load', 'hourofday', 'dayofweek', 'absdif', 'max', 'var', 'hurst']]\n",
    "\n",
    "\n",
    "# create XGB object\n",
    "XGB_wash = XGBClassifier()\n",
    "# fit the model on training set\n",
    "XGB_wash.fit(X_train_wash, y_train_wash)\n",
    "# predcit the data on training set\n",
    "y_pred_wash = XGB_wash.predict(X_train_wash)\n",
    "# get the confusion matrix\n",
    "matrix = confusion_matrix(y_train_wash, y_pred_wash)\n",
    "\n",
    "print(\"F1 Score at training data: \", f1_score(y_train_wash, y_pred_wash, average=None))\n",
    "\n",
    "print(\"\\nConfusion Matrix for training data: \\n\", matrix)\n",
    "print(\"\\nON Testing SET-----------------------\\n\")\n",
    "\n",
    "# predcit the data on testing set\n",
    "y_pred_wash = XGB_wash.predict(X_test_wash)\n",
    "# get the confusion matrix for testing set\n",
    "matrix = confusion_matrix(y_test_wash, y_pred_wash)\n",
    "\n",
    "print(\"F1 Score at testing data: \",f1_score(y_test_wash, y_pred_wash, average=None))\n",
    "\n",
    "print(\"\\nConfusion Matrix for testing data: \\n\",matrix)\n",
    "\n",
    "plot_confusion_matrix(XGB_wash, X=X_test_wash, y_true= y_test_wash)"
   ]
  },
  {
   "cell_type": "code",
   "execution_count": 33,
   "metadata": {},
   "outputs": [
    {
     "name": "stdout",
     "output_type": "stream",
     "text": [
      "F1: 0.922 (0.010)\n",
      "Score for each validation and testing set [0.94266278 0.93769799 0.92020725 0.90569948 0.91573604 0.91573604\n",
      " 0.9219563  0.92082111 0.92214358 0.91859296]\n"
     ]
    }
   ],
   "source": [
    "# Cross Validation\n",
    "cv = KFold(n_splits=10)\n",
    "n_scores = cross_val_score(XGB_wash, X_test_wash, y_test_wash, scoring='f1', cv=cv, n_jobs=-1, error_score='raise')\n",
    "# report performance\n",
    "print('F1: %.3f (%.3f)' % (np.mean(n_scores), np.std(n_scores)))\n",
    "print(\"Score for each validation and testing set\", n_scores)"
   ]
  },
  {
   "cell_type": "code",
   "execution_count": 34,
   "metadata": {},
   "outputs": [],
   "source": [
    "wash = XGB_wash.predict(df_test[['load', 'hourofday', 'dayofweek', 'absdif', 'max', 'var', 'hurst']])"
   ]
  },
  {
   "cell_type": "code",
   "execution_count": 35,
   "metadata": {},
   "outputs": [
    {
     "name": "stdout",
     "output_type": "stream",
     "text": [
      "F1 Score for all training data:  [0.95781365 0.31802585]\n",
      "\n",
      "Confusion Matrix for all training data: \n",
      " [[376790  32977]\n",
      " [   214   7739]]\n"
     ]
    }
   ],
   "source": [
    "a = XGB_wash.predict(df[['load', 'hourofday', 'dayofweek', 'absdif', 'max', 'var', 'hurst']])\n",
    "print(\"F1 Score for all training data: \",f1_score(df['wash'], a, average=None))\n",
    "matrix = confusion_matrix(df['wash'], a)\n",
    "print(\"\\nConfusion Matrix for all training data: \\n\", matrix)"
   ]
  },
  {
   "cell_type": "markdown",
   "metadata": {},
   "source": [
    "### Training/Testing Data and SMOTE for Dryer"
   ]
  },
  {
   "cell_type": "code",
   "execution_count": 36,
   "metadata": {},
   "outputs": [
    {
     "name": "stdout",
     "output_type": "stream",
     "text": [
      "Dimension of X dataframe before SMOTE: (54304, 10) \n",
      "Dimension of X dataframe after SMOTE: (81456, 10)\n",
      "\n",
      "positive and negative classes (%):\n"
     ]
    }
   ],
   "source": [
    "# Training and testing data\n",
    "X,Y = sample(\"dryer\",3)\n",
    "\n",
    "X_sm, y_sm = sm.fit_resample(X, Y)\n",
    "\n",
    "print(\"Dimension of X dataframe before SMOTE: {} \\nDimension of X dataframe after SMOTE: {}\".format(X.shape, X_sm.shape))\n",
    "\n",
    "print('\\npositive and negative classes (%):')\n",
    "y_sm.value_counts(normalize=True) * 100\n",
    "\n",
    "# split data in training and testing 80 training and 20 testing\n",
    "X_train_dryer, X_test_dryer, y_train_dryer, y_test_dryer = train_test_split(X_sm,y_sm, test_size=0.2, random_state=13)"
   ]
  },
  {
   "cell_type": "code",
   "execution_count": 37,
   "metadata": {},
   "outputs": [],
   "source": [
    "for i in range(1,len(X_train_dryer.columns)):\n",
    "    XGB_dryer = XGBClassifier(eval_metric = 'logloss') \n",
    "    ac_fs = RFE(XGB_dryer, n_features_to_select=i, step=1).fit(X_train_dryer, y_train_dryer)\n",
    "    ac_fs.get_support()\n",
    "    print(X_train_dryer.columns[ac_fs.get_support()])\n",
    "    \n",
    "    ac_rf_pred = ac_fs.predict(X = X_test_dryer)\n",
    "    print(confusion_matrix(y_true = y_test_dryer, y_pred = ac_rf_pred))"
   ]
  },
  {
   "cell_type": "markdown",
   "metadata": {},
   "source": [
    "### XG Boost for Dryer"
   ]
  },
  {
   "cell_type": "code",
   "execution_count": 38,
   "metadata": {},
   "outputs": [
    {
     "name": "stdout",
     "output_type": "stream",
     "text": [
      "[23:34:57] WARNING: C:/Users/Administrator/workspace/xgboost-win64_release_1.4.0/src/learner.cc:1095: Starting in XGBoost 1.3.0, the default evaluation metric used with the objective 'binary:logistic' was changed from 'error' to 'logloss'. Explicitly set eval_metric if you'd like to restore the old behavior.\n",
      "F1 Score at training data:  [0.97529978 0.97613156]\n",
      "\n",
      "Confusion Matrix for training data: \n",
      " [[31233  1320]\n",
      " [  262 32349]]\n",
      "\n",
      "ON Testing SET-----------------------\n",
      "\n",
      "F1 Score at testing data:  [0.96524566 0.96647775]\n",
      "\n",
      "Confusion Matrix for testing data: \n",
      " [[7721  454]\n",
      " [ 102 8015]]\n"
     ]
    },
    {
     "data": {
      "text/plain": [
       "<sklearn.metrics._plot.confusion_matrix.ConfusionMatrixDisplay at 0x192a99d5ba8>"
      ]
     },
     "execution_count": 38,
     "metadata": {},
     "output_type": "execute_result"
    },
    {
     "data": {
      "image/png": "[encoded data removed]",
      "text/plain": [
       "<Figure size 1152x288 with 2 Axes>"
      ]
     },
     "metadata": {
      "needs_background": "light"
     },
     "output_type": "display_data"
    }
   ],
   "source": [
    "X_train_dryer = X_train_dryer[['load', 'hourofday', 'dayofweek', 'absdif', 'max', 'var', 'nonlinear','hurst']]\n",
    "X_test_dryer = X_test_dryer[['load', 'hourofday', 'dayofweek', 'absdif', 'max', 'var', 'nonlinear','hurst']]\n",
    "\n",
    "# create XGB object\n",
    "XGB_dryer = XGBClassifier()\n",
    "# fit the model on training set\n",
    "XGB_dryer.fit(X_train_dryer, y_train_dryer)\n",
    "# predcit the data on training set\n",
    "y_pred_dryer = XGB_dryer.predict(X_train_dryer)\n",
    "# get the confusion matrix\n",
    "matrix = confusion_matrix(y_train_dryer, y_pred_dryer)\n",
    "\n",
    "print(\"F1 Score at training data: \", f1_score(y_train_dryer, y_pred_dryer, average=None))\n",
    "\n",
    "print(\"\\nConfusion Matrix for training data: \\n\", matrix)\n",
    "print(\"\\nON Testing SET-----------------------\\n\")\n",
    "\n",
    "# predcit the data on testing set\n",
    "y_pred_dryer = XGB_dryer.predict(X_test_dryer)\n",
    "# get the confusion matrix for testing set\n",
    "matrix = confusion_matrix(y_test_dryer, y_pred_dryer)\n",
    "\n",
    "print(\"F1 Score at testing data: \",f1_score(y_test_dryer, y_pred_dryer, average=None))\n",
    "\n",
    "print(\"\\nConfusion Matrix for testing data: \\n\",matrix)\n",
    "\n",
    "plot_confusion_matrix(XGB_dryer, X=X_test_dryer, y_true= y_test_dryer)"
   ]
  },
  {
   "cell_type": "code",
   "execution_count": 39,
   "metadata": {},
   "outputs": [
    {
     "name": "stdout",
     "output_type": "stream",
     "text": [
      "F1: 0.943 (0.004)\n",
      "Score for each validation and testing set [0.93974437 0.94487255 0.94405594 0.95120517 0.94181818 0.93727811\n",
      " 0.94492044 0.94656489 0.94228504 0.93562232]\n"
     ]
    }
   ],
   "source": [
    "# Cross Validation\n",
    "cv = KFold(n_splits=10)\n",
    "n_scores = cross_val_score(XGB_dryer, X_test_dryer, y_test_dryer, scoring='f1', cv=cv, n_jobs=-1, error_score='raise')\n",
    "# report performance\n",
    "print('F1: %.3f (%.3f)' % (np.mean(n_scores), np.std(n_scores)))\n",
    "print(\"Score for each validation and testing set\", n_scores)"
   ]
  },
  {
   "cell_type": "code",
   "execution_count": 40,
   "metadata": {},
   "outputs": [],
   "source": [
    "dryer = XGB_dryer.predict(df_test[['load', 'hourofday', 'dayofweek', 'absdif', 'max', 'var', 'nonlinear','hurst']])"
   ]
  },
  {
   "cell_type": "code",
   "execution_count": 41,
   "metadata": {},
   "outputs": [
    {
     "name": "stdout",
     "output_type": "stream",
     "text": [
      "F1 Score for all training data:  [0.97085515 0.53898339]\n",
      "\n",
      "Confusion Matrix for all training data: \n",
      " [[381432  22712]\n",
      " [   189  13387]]\n"
     ]
    }
   ],
   "source": [
    "a = XGB_dryer.predict(df[['load', 'hourofday', 'dayofweek', 'absdif', 'max', 'var', 'nonlinear','hurst']])\n",
    "print(\"F1 Score for all training data: \",f1_score(df['dryer'], a, average=None))\n",
    "matrix = confusion_matrix(df['dryer'], a)\n",
    "print(\"\\nConfusion Matrix for all training data: \\n\", matrix)"
   ]
  },
  {
   "cell_type": "markdown",
   "metadata": {},
   "source": [
    "#### Save the prediction result"
   ]
  },
  {
   "cell_type": "code",
   "execution_count": 42,
   "metadata": {},
   "outputs": [],
   "source": [
    "col = {'id': Id, 'ac': ac_1, 'ev': ev, 'oven': oven, 'wash': wash, 'dryer': dryer}\n",
    "final = pd.DataFrame(col)\n",
    "final.to_csv('pred_labels.csv', index = False)"
   ]
  }
 ],
 "metadata": {
  "kernelspec": {
   "display_name": "Python 3",
   "language": "python",
   "name": "python3"
  },
  "language_info": {
   "codemirror_mode": {
    "name": "ipython",
    "version": 3
   },
   "file_extension": ".py",
   "mimetype": "text/x-python",
   "name": "python",
   "nbconvert_exporter": "python",
   "pygments_lexer": "ipython3",
   "version": "3.6.9"
  }
 },
 "nbformat": 4,
 "nbformat_minor": 2
}
